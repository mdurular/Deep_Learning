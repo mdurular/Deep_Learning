{
 "cells": [
  {
   "cell_type": "markdown",
   "metadata": {},
   "source": [
    "___\n",
    "\n",
    "<p style=\"text-align: center;\"><img src=\"https://docs.google.com/uc?id=1lY0Uj5R04yMY3-ZppPWxqCr5pvBLYPnV\" class=\"img-fluid\" alt=\"CLRSWY\"></p>\n",
    "\n",
    "___"
   ]
  },
  {
   "cell_type": "markdown",
   "metadata": {},
   "source": [
    "<h1 style=\"text-align: center;\">Deep Learning<br><br>Session - 2<br><br>Installing Tensorflow & Keras Syntax Basics<br><br>Fake Reg<br><h1>"
   ]
  },
  {
   "cell_type": "markdown",
   "metadata": {},
   "source": [
    "Regression ve classification problemlerinin cok buyuk bir kismi Machine Learning modelleri ile cozulebilir. Buyuk datalarda calismak gerektiginde Deep Learning modelleri tercih edilir."
   ]
  },
  {
   "cell_type": "markdown",
   "metadata": {},
   "source": [
    "# Installing Tensorflow"
   ]
  },
  {
   "cell_type": "code",
   "execution_count": 1,
   "metadata": {},
   "outputs": [
    {
     "name": "stdout",
     "output_type": "stream",
     "text": [
      "Python 3.9.7\n"
     ]
    }
   ],
   "source": [
    "!python --version"
   ]
  },
  {
   "cell_type": "code",
   "execution_count": 2,
   "metadata": {},
   "outputs": [
    {
     "name": "stdout",
     "output_type": "stream",
     "text": [
      "Collecting package metadata (current_repodata.json): done\n",
      "Solving environment: failed with initial frozen solve. Retrying with flexible solve.\n",
      "Solving environment: failed with repodata from current_repodata.json, will retry with next repodata source.\n",
      "Collecting package metadata (repodata.json): done\n",
      "Solving environment: failed with initial frozen solve. Retrying with flexible solve.\n",
      "Solving environment: - \n",
      "Found conflicts! Looking for incompatible packages.\n",
      "This can take several minutes.  Press CTRL-C to abort.\n",
      "                                                                               failed\n",
      "\n",
      "UnsatisfiableError: The following specifications were found\n",
      "to be incompatible with the existing python installation in your environment:\n",
      "\n",
      "Specifications:\n",
      "\n",
      "  - tensorflow -> python[version='2.7.*|3.7.*|3.6.*|3.5.*']\n",
      "\n",
      "Your python: python=3.8\n",
      "\n",
      "If python is on the left-most side of the chain, that's the version you've asked for.\n",
      "When python appears to the right, that indicates that the thing on the left is somehow\n",
      "not available for the python version you are constrained to. Note that conda will not\n",
      "change your python version to a different minor version unless you explicitly specify\n",
      "that.\n",
      "\n",
      "\n",
      "\n",
      "\n",
      "Note: you may need to restart the kernel to use updated packages.\n"
     ]
    }
   ],
   "source": [
    "conda install tensorflow"
   ]
  },
  {
   "cell_type": "code",
   "execution_count": 3,
   "metadata": {},
   "outputs": [
    {
     "name": "stdout",
     "output_type": "stream",
     "text": [
      "Requirement already satisfied: tensorflow in /Users/sofia/opt/anaconda3/lib/python3.8/site-packages (2.8.0)\n",
      "Requirement already satisfied: opt-einsum>=2.3.2 in /Users/sofia/opt/anaconda3/lib/python3.8/site-packages (from tensorflow) (3.3.0)\n",
      "Requirement already satisfied: libclang>=9.0.1 in /Users/sofia/opt/anaconda3/lib/python3.8/site-packages (from tensorflow) (13.0.0)\n",
      "Requirement already satisfied: keras-preprocessing>=1.1.1 in /Users/sofia/opt/anaconda3/lib/python3.8/site-packages (from tensorflow) (1.1.2)\n",
      "Requirement already satisfied: tensorflow-io-gcs-filesystem>=0.23.1 in /Users/sofia/opt/anaconda3/lib/python3.8/site-packages (from tensorflow) (0.24.0)\n",
      "Requirement already satisfied: typing-extensions>=3.6.6 in /Users/sofia/opt/anaconda3/lib/python3.8/site-packages (from tensorflow) (4.1.1)\n",
      "Requirement already satisfied: setuptools in /Users/sofia/opt/anaconda3/lib/python3.8/site-packages (from tensorflow) (60.9.3)\n",
      "Requirement already satisfied: termcolor>=1.1.0 in /Users/sofia/opt/anaconda3/lib/python3.8/site-packages (from tensorflow) (1.1.0)\n",
      "Requirement already satisfied: grpcio<2.0,>=1.24.3 in /Users/sofia/opt/anaconda3/lib/python3.8/site-packages (from tensorflow) (1.44.0)\n",
      "Requirement already satisfied: tf-estimator-nightly==2.8.0.dev2021122109 in /Users/sofia/opt/anaconda3/lib/python3.8/site-packages (from tensorflow) (2.8.0.dev2021122109)\n",
      "Requirement already satisfied: flatbuffers>=1.12 in /Users/sofia/opt/anaconda3/lib/python3.8/site-packages (from tensorflow) (2.0)\n",
      "Requirement already satisfied: absl-py>=0.4.0 in /Users/sofia/opt/anaconda3/lib/python3.8/site-packages (from tensorflow) (1.0.0)\n",
      "Requirement already satisfied: keras<2.9,>=2.8.0rc0 in /Users/sofia/opt/anaconda3/lib/python3.8/site-packages (from tensorflow) (2.8.0)\n",
      "Requirement already satisfied: numpy>=1.20 in /Users/sofia/opt/anaconda3/lib/python3.8/site-packages (from tensorflow) (1.22.3)\n",
      "Requirement already satisfied: google-pasta>=0.1.1 in /Users/sofia/opt/anaconda3/lib/python3.8/site-packages (from tensorflow) (0.2.0)\n",
      "Requirement already satisfied: wrapt>=1.11.0 in /Users/sofia/opt/anaconda3/lib/python3.8/site-packages (from tensorflow) (1.13.3)\n",
      "Requirement already satisfied: astunparse>=1.6.0 in /Users/sofia/opt/anaconda3/lib/python3.8/site-packages (from tensorflow) (1.6.3)\n",
      "Requirement already satisfied: tensorboard<2.9,>=2.8 in /Users/sofia/opt/anaconda3/lib/python3.8/site-packages (from tensorflow) (2.8.0)\n",
      "Requirement already satisfied: six>=1.12.0 in /Users/sofia/opt/anaconda3/lib/python3.8/site-packages (from tensorflow) (1.16.0)\n",
      "Requirement already satisfied: h5py>=2.9.0 in /Users/sofia/opt/anaconda3/lib/python3.8/site-packages (from tensorflow) (3.6.0)\n",
      "Requirement already satisfied: gast>=0.2.1 in /Users/sofia/opt/anaconda3/lib/python3.8/site-packages (from tensorflow) (0.5.3)\n",
      "Requirement already satisfied: protobuf>=3.9.2 in /Users/sofia/opt/anaconda3/lib/python3.8/site-packages (from tensorflow) (3.19.4)\n",
      "Requirement already satisfied: wheel<1.0,>=0.23.0 in /Users/sofia/opt/anaconda3/lib/python3.8/site-packages (from astunparse>=1.6.0->tensorflow) (0.37.1)\n",
      "Requirement already satisfied: werkzeug>=0.11.15 in /Users/sofia/opt/anaconda3/lib/python3.8/site-packages (from tensorboard<2.9,>=2.8->tensorflow) (2.0.3)\n",
      "Requirement already satisfied: markdown>=2.6.8 in /Users/sofia/opt/anaconda3/lib/python3.8/site-packages (from tensorboard<2.9,>=2.8->tensorflow) (3.3.6)\n",
      "Requirement already satisfied: requests<3,>=2.21.0 in /Users/sofia/opt/anaconda3/lib/python3.8/site-packages (from tensorboard<2.9,>=2.8->tensorflow) (2.27.1)\n",
      "Requirement already satisfied: google-auth<3,>=1.6.3 in /Users/sofia/opt/anaconda3/lib/python3.8/site-packages (from tensorboard<2.9,>=2.8->tensorflow) (2.6.0)\n",
      "Requirement already satisfied: google-auth-oauthlib<0.5,>=0.4.1 in /Users/sofia/opt/anaconda3/lib/python3.8/site-packages (from tensorboard<2.9,>=2.8->tensorflow) (0.4.6)\n",
      "Requirement already satisfied: tensorboard-data-server<0.7.0,>=0.6.0 in /Users/sofia/opt/anaconda3/lib/python3.8/site-packages (from tensorboard<2.9,>=2.8->tensorflow) (0.6.1)\n",
      "Requirement already satisfied: tensorboard-plugin-wit>=1.6.0 in /Users/sofia/opt/anaconda3/lib/python3.8/site-packages (from tensorboard<2.9,>=2.8->tensorflow) (1.8.1)\n",
      "Requirement already satisfied: pyasn1-modules>=0.2.1 in /Users/sofia/opt/anaconda3/lib/python3.8/site-packages (from google-auth<3,>=1.6.3->tensorboard<2.9,>=2.8->tensorflow) (0.2.8)\n",
      "Requirement already satisfied: rsa<5,>=3.1.4 in /Users/sofia/opt/anaconda3/lib/python3.8/site-packages (from google-auth<3,>=1.6.3->tensorboard<2.9,>=2.8->tensorflow) (4.8)\n",
      "Requirement already satisfied: cachetools<6.0,>=2.0.0 in /Users/sofia/opt/anaconda3/lib/python3.8/site-packages (from google-auth<3,>=1.6.3->tensorboard<2.9,>=2.8->tensorflow) (5.0.0)\n",
      "Requirement already satisfied: requests-oauthlib>=0.7.0 in /Users/sofia/opt/anaconda3/lib/python3.8/site-packages (from google-auth-oauthlib<0.5,>=0.4.1->tensorboard<2.9,>=2.8->tensorflow) (1.3.1)\n",
      "Requirement already satisfied: importlib-metadata>=4.4 in /Users/sofia/opt/anaconda3/lib/python3.8/site-packages (from markdown>=2.6.8->tensorboard<2.9,>=2.8->tensorflow) (4.11.2)\n",
      "Requirement already satisfied: zipp>=0.5 in /Users/sofia/opt/anaconda3/lib/python3.8/site-packages (from importlib-metadata>=4.4->markdown>=2.6.8->tensorboard<2.9,>=2.8->tensorflow) (3.7.0)\n",
      "Requirement already satisfied: pyasn1<0.5.0,>=0.4.6 in /Users/sofia/opt/anaconda3/lib/python3.8/site-packages (from pyasn1-modules>=0.2.1->google-auth<3,>=1.6.3->tensorboard<2.9,>=2.8->tensorflow) (0.4.8)\n",
      "Requirement already satisfied: certifi>=2017.4.17 in /Users/sofia/opt/anaconda3/lib/python3.8/site-packages (from requests<3,>=2.21.0->tensorboard<2.9,>=2.8->tensorflow) (2021.10.8)\n",
      "Requirement already satisfied: urllib3<1.27,>=1.21.1 in /Users/sofia/opt/anaconda3/lib/python3.8/site-packages (from requests<3,>=2.21.0->tensorboard<2.9,>=2.8->tensorflow) (1.26.8)\n",
      "Requirement already satisfied: idna<4,>=2.5 in /Users/sofia/opt/anaconda3/lib/python3.8/site-packages (from requests<3,>=2.21.0->tensorboard<2.9,>=2.8->tensorflow) (3.3)\n",
      "Requirement already satisfied: charset-normalizer~=2.0.0 in /Users/sofia/opt/anaconda3/lib/python3.8/site-packages (from requests<3,>=2.21.0->tensorboard<2.9,>=2.8->tensorflow) (2.0.12)\n",
      "Requirement already satisfied: oauthlib>=3.0.0 in /Users/sofia/opt/anaconda3/lib/python3.8/site-packages (from requests-oauthlib>=0.7.0->google-auth-oauthlib<0.5,>=0.4.1->tensorboard<2.9,>=2.8->tensorflow) (3.2.0)\n",
      "Note: you may need to restart the kernel to use updated packages.\n"
     ]
    }
   ],
   "source": [
    "pip install tensorflow"
   ]
  },
  {
   "cell_type": "code",
   "execution_count": 16,
   "metadata": {},
   "outputs": [],
   "source": [
    "#!pip install tensorflow==2.0"
   ]
  },
  {
   "cell_type": "code",
   "execution_count": 5,
   "metadata": {},
   "outputs": [],
   "source": [
    "#!pip install --ignore-installed --upgrade tensorflow==2.5"
   ]
  },
  {
   "cell_type": "code",
   "execution_count": 6,
   "metadata": {},
   "outputs": [],
   "source": [
    "#conda install -c anaconda keras"
   ]
  },
  {
   "cell_type": "code",
   "execution_count": 7,
   "metadata": {},
   "outputs": [],
   "source": [
    "#conda install -c intel mkl"
   ]
  },
  {
   "cell_type": "code",
   "execution_count": 8,
   "metadata": {},
   "outputs": [],
   "source": [
    "#jupyter notebook --debug"
   ]
  },
  {
   "cell_type": "code",
   "execution_count": 9,
   "metadata": {},
   "outputs": [],
   "source": [
    "#conda install tensorflow"
   ]
  },
  {
   "cell_type": "code",
   "execution_count": 10,
   "metadata": {},
   "outputs": [],
   "source": [
    "#conda install nomkl"
   ]
  },
  {
   "cell_type": "code",
   "execution_count": 11,
   "metadata": {},
   "outputs": [],
   "source": [
    "#pip install -U numpy"
   ]
  },
  {
   "cell_type": "code",
   "execution_count": 12,
   "metadata": {},
   "outputs": [],
   "source": [
    "#conda update mkl"
   ]
  },
  {
   "cell_type": "code",
   "execution_count": 5,
   "metadata": {},
   "outputs": [],
   "source": [
    "import os\n",
    "os.environ['KMP_DUPLICATE_LIB_OK']='True'"
   ]
  },
  {
   "cell_type": "code",
   "execution_count": 4,
   "metadata": {},
   "outputs": [
    {
     "name": "stdout",
     "output_type": "stream",
     "text": [
      "Requirement already satisfied: keras==2.8.0 in /Users/sofia/opt/anaconda3/lib/python3.8/site-packages (2.8.0)\n"
     ]
    }
   ],
   "source": [
    "!pip install keras==2.8.0"
   ]
  },
  {
   "cell_type": "code",
   "execution_count": 11,
   "metadata": {},
   "outputs": [
    {
     "name": "stdout",
     "output_type": "stream",
     "text": [
      "Requirement already satisfied: tensorflow in /opt/anaconda3/lib/python3.9/site-packages (2.8.0)\n",
      "Requirement already satisfied: setuptools in /opt/anaconda3/lib/python3.9/site-packages (from tensorflow) (60.9.3)\n",
      "Requirement already satisfied: protobuf>=3.9.2 in /opt/anaconda3/lib/python3.9/site-packages (from tensorflow) (3.19.4)\n",
      "Requirement already satisfied: wrapt>=1.11.0 in /opt/anaconda3/lib/python3.9/site-packages (from tensorflow) (1.12.1)\n",
      "Requirement already satisfied: tensorboard<2.9,>=2.8 in /opt/anaconda3/lib/python3.9/site-packages (from tensorflow) (2.8.0)\n",
      "Requirement already satisfied: six>=1.12.0 in /opt/anaconda3/lib/python3.9/site-packages (from tensorflow) (1.16.0)\n",
      "Requirement already satisfied: astunparse>=1.6.0 in /opt/anaconda3/lib/python3.9/site-packages (from tensorflow) (1.6.3)\n",
      "Requirement already satisfied: numpy>=1.20 in /opt/anaconda3/lib/python3.9/site-packages (from tensorflow) (1.20.3)\n",
      "Requirement already satisfied: gast>=0.2.1 in /opt/anaconda3/lib/python3.9/site-packages (from tensorflow) (0.5.3)\n",
      "Requirement already satisfied: termcolor>=1.1.0 in /opt/anaconda3/lib/python3.9/site-packages (from tensorflow) (1.1.0)\n",
      "Requirement already satisfied: tensorflow-io-gcs-filesystem>=0.23.1 in /opt/anaconda3/lib/python3.9/site-packages (from tensorflow) (0.24.0)\n",
      "Requirement already satisfied: opt-einsum>=2.3.2 in /opt/anaconda3/lib/python3.9/site-packages (from tensorflow) (3.3.0)\n",
      "Requirement already satisfied: libclang>=9.0.1 in /opt/anaconda3/lib/python3.9/site-packages (from tensorflow) (13.0.0)\n",
      "Requirement already satisfied: keras-preprocessing>=1.1.1 in /opt/anaconda3/lib/python3.9/site-packages (from tensorflow) (1.1.2)\n",
      "Requirement already satisfied: flatbuffers>=1.12 in /opt/anaconda3/lib/python3.9/site-packages (from tensorflow) (2.0)\n",
      "Requirement already satisfied: h5py>=2.9.0 in /opt/anaconda3/lib/python3.9/site-packages (from tensorflow) (3.2.1)\n",
      "Requirement already satisfied: absl-py>=0.4.0 in /opt/anaconda3/lib/python3.9/site-packages (from tensorflow) (1.0.0)\n",
      "Requirement already satisfied: grpcio<2.0,>=1.24.3 in /opt/anaconda3/lib/python3.9/site-packages (from tensorflow) (1.44.0)\n",
      "Requirement already satisfied: typing-extensions>=3.6.6 in /opt/anaconda3/lib/python3.9/site-packages (from tensorflow) (3.10.0.2)\n",
      "Requirement already satisfied: tf-estimator-nightly==2.8.0.dev2021122109 in /opt/anaconda3/lib/python3.9/site-packages (from tensorflow) (2.8.0.dev2021122109)\n",
      "Requirement already satisfied: keras<2.9,>=2.8.0rc0 in /opt/anaconda3/lib/python3.9/site-packages (from tensorflow) (2.8.0)\n",
      "Requirement already satisfied: google-pasta>=0.1.1 in /opt/anaconda3/lib/python3.9/site-packages (from tensorflow) (0.2.0)\n",
      "Requirement already satisfied: wheel<1.0,>=0.23.0 in /opt/anaconda3/lib/python3.9/site-packages (from astunparse>=1.6.0->tensorflow) (0.37.1)\n",
      "Requirement already satisfied: tensorboard-plugin-wit>=1.6.0 in /opt/anaconda3/lib/python3.9/site-packages (from tensorboard<2.9,>=2.8->tensorflow) (1.8.1)\n",
      "Requirement already satisfied: tensorboard-data-server<0.7.0,>=0.6.0 in /opt/anaconda3/lib/python3.9/site-packages (from tensorboard<2.9,>=2.8->tensorflow) (0.6.1)\n",
      "Requirement already satisfied: google-auth<3,>=1.6.3 in /opt/anaconda3/lib/python3.9/site-packages (from tensorboard<2.9,>=2.8->tensorflow) (2.6.0)\n",
      "Requirement already satisfied: google-auth-oauthlib<0.5,>=0.4.1 in /opt/anaconda3/lib/python3.9/site-packages (from tensorboard<2.9,>=2.8->tensorflow) (0.4.6)\n",
      "Requirement already satisfied: markdown>=2.6.8 in /opt/anaconda3/lib/python3.9/site-packages (from tensorboard<2.9,>=2.8->tensorflow) (3.3.6)\n",
      "Requirement already satisfied: requests<3,>=2.21.0 in /opt/anaconda3/lib/python3.9/site-packages (from tensorboard<2.9,>=2.8->tensorflow) (2.27.1)\n",
      "Requirement already satisfied: werkzeug>=0.11.15 in /opt/anaconda3/lib/python3.9/site-packages (from tensorboard<2.9,>=2.8->tensorflow) (2.0.3)\n",
      "Requirement already satisfied: rsa<5,>=3.1.4 in /opt/anaconda3/lib/python3.9/site-packages (from google-auth<3,>=1.6.3->tensorboard<2.9,>=2.8->tensorflow) (4.8)\n",
      "Requirement already satisfied: pyasn1-modules>=0.2.1 in /opt/anaconda3/lib/python3.9/site-packages (from google-auth<3,>=1.6.3->tensorboard<2.9,>=2.8->tensorflow) (0.2.8)\n",
      "Requirement already satisfied: cachetools<6.0,>=2.0.0 in /opt/anaconda3/lib/python3.9/site-packages (from google-auth<3,>=1.6.3->tensorboard<2.9,>=2.8->tensorflow) (5.0.0)\n",
      "Requirement already satisfied: requests-oauthlib>=0.7.0 in /opt/anaconda3/lib/python3.9/site-packages (from google-auth-oauthlib<0.5,>=0.4.1->tensorboard<2.9,>=2.8->tensorflow) (1.3.1)\n",
      "Requirement already satisfied: importlib-metadata>=4.4 in /opt/anaconda3/lib/python3.9/site-packages (from markdown>=2.6.8->tensorboard<2.9,>=2.8->tensorflow) (4.11.2)\n",
      "Requirement already satisfied: urllib3<1.27,>=1.21.1 in /opt/anaconda3/lib/python3.9/site-packages (from requests<3,>=2.21.0->tensorboard<2.9,>=2.8->tensorflow) (1.26.8)\n",
      "Requirement already satisfied: certifi>=2017.4.17 in /opt/anaconda3/lib/python3.9/site-packages (from requests<3,>=2.21.0->tensorboard<2.9,>=2.8->tensorflow) (2021.10.8)\n",
      "Requirement already satisfied: idna<4,>=2.5 in /opt/anaconda3/lib/python3.9/site-packages (from requests<3,>=2.21.0->tensorboard<2.9,>=2.8->tensorflow) (3.3)\n",
      "Requirement already satisfied: charset-normalizer~=2.0.0 in /opt/anaconda3/lib/python3.9/site-packages (from requests<3,>=2.21.0->tensorboard<2.9,>=2.8->tensorflow) (2.0.12)\n",
      "Requirement already satisfied: zipp>=0.5 in /opt/anaconda3/lib/python3.9/site-packages (from importlib-metadata>=4.4->markdown>=2.6.8->tensorboard<2.9,>=2.8->tensorflow) (3.7.0)\n",
      "Requirement already satisfied: pyasn1<0.5.0,>=0.4.6 in /opt/anaconda3/lib/python3.9/site-packages (from pyasn1-modules>=0.2.1->google-auth<3,>=1.6.3->tensorboard<2.9,>=2.8->tensorflow) (0.4.8)\n",
      "Requirement already satisfied: oauthlib>=3.0.0 in /opt/anaconda3/lib/python3.9/site-packages (from requests-oauthlib>=0.7.0->google-auth-oauthlib<0.5,>=0.4.1->tensorboard<2.9,>=2.8->tensorflow) (3.2.0)\n"
     ]
    }
   ],
   "source": [
    "!pip3 install tensorflow"
   ]
  },
  {
   "cell_type": "code",
   "execution_count": null,
   "metadata": {},
   "outputs": [],
   "source": [
    "import tensorflow as tf\n",
    "tf.__version__"
   ]
  },
  {
   "cell_type": "code",
   "execution_count": 1,
   "metadata": {},
   "outputs": [
    {
     "name": "stdout",
     "output_type": "stream",
     "text": [
      "Package                                           Version\n",
      "------------------------------------------------- -------------------\n",
      "absl-py                                           1.0.0\n",
      "aiohttp                                           3.8.1\n",
      "aiosignal                                         1.2.0\n",
      "alabaster                                         0.7.12\n",
      "altair                                            4.2.0\n",
      "anaconda-client                                   1.7.2\n",
      "anaconda-navigator                                2.1.1\n",
      "anaconda-project                                  0.9.1\n",
      "anyio                                             2.2.0\n",
      "appdirs                                           1.4.4\n",
      "applaunchservices                                 0.2.1\n",
      "appnope                                           0.1.2\n",
      "appscript                                         1.1.2\n",
      "argh                                              0.26.2\n",
      "argon2-cffi                                       21.3.0\n",
      "argon2-cffi-bindings                              21.2.0\n",
      "asn1crypto                                        1.4.0\n",
      "astor                                             0.8.1\n",
      "astroid                                           2.6.6\n",
      "astropy                                           4.2.1\n",
      "asttokens                                         2.0.5\n",
      "astunparse                                        1.6.3\n",
      "async-generator                                   1.10\n",
      "async-timeout                                     4.0.2\n",
      "atomicwrites                                      1.4.0\n",
      "attrs                                             21.4.0\n",
      "autopep8                                          1.5.6\n",
      "Babel                                             2.9.0\n",
      "backcall                                          0.2.0\n",
      "backports.functools-lru-cache                     1.6.4\n",
      "backports.shutil-get-terminal-size                1.0.0\n",
      "backports.tempfile                                1.0\n",
      "backports.weakref                                 1.0.post1\n",
      "backports.zoneinfo                                0.2.1\n",
      "base58                                            2.1.1\n",
      "beautifulsoup4                                    4.9.3\n",
      "bitarray                                          1.9.2\n",
      "bkcharts                                          0.2\n",
      "black                                             19.10b0\n",
      "bleach                                            4.1.0\n",
      "blinker                                           1.4\n",
      "bokeh                                             2.3.2\n",
      "boto                                              2.49.0\n",
      "Bottleneck                                        1.3.2\n",
      "branca                                            0.4.2\n",
      "brotlipy                                          0.7.0\n",
      "cachetools                                        5.0.0\n",
      "certifi                                           2021.10.8\n",
      "cffi                                              1.15.0\n",
      "chardet                                           4.0.0\n",
      "charset-normalizer                                2.0.12\n",
      "clang                                             5.0\n",
      "click                                             8.0.3\n",
      "cloudpickle                                       1.6.0\n",
      "clyent                                            1.2.2\n",
      "colorama                                          0.4.4\n",
      "colorlover                                        0.3.0\n",
      "conda                                             4.11.0\n",
      "conda-build                                       3.21.4\n",
      "conda-content-trust                               0+unknown\n",
      "conda-package-handling                            1.7.3\n",
      "conda-repo-cli                                    1.0.4\n",
      "conda-token                                       0.3.0\n",
      "conda-verify                                      3.4.2\n",
      "config                                            0.5.1\n",
      "contextlib2                                       0.6.0.post1\n",
      "cryptography                                      3.4.7\n",
      "cufflinks                                         0.17.3\n",
      "cycler                                            0.11.0\n",
      "Cython                                            0.29.23\n",
      "cytoolz                                           0.11.0\n",
      "dask                                              2.30.0\n",
      "dataprep                                          0.2.15\n",
      "debugpy                                           1.5.1\n",
      "decorator                                         5.1.1\n",
      "defusedxml                                        0.7.1\n",
      "descartes                                         1.1.0\n",
      "diff-match-patch                                  20200713\n",
      "distributed                                       2.30.1\n",
      "docutils                                          0.17.1\n",
      "eda                                               1.0.0a2\n",
      "entrypoints                                       0.3\n",
      "et-xmlfile                                        1.0.1\n",
      "executing                                         0.8.2\n",
      "fastcache                                         1.1.0\n",
      "filelock                                          3.4.2\n",
      "flake8                                            3.9.0\n",
      "Flask                                             1.1.4\n",
      "flatbuffers                                       2.0\n",
      "folium                                            0.12.1.post1\n",
      "fonttools                                         4.29.1\n",
      "frozenlist                                        1.3.0\n",
      "fsspec                                            0.9.0\n",
      "future                                            0.18.2\n",
      "gast                                              0.5.3\n",
      "gevent                                            21.1.2\n",
      "gitdb                                             4.0.9\n",
      "GitPython                                         3.1.26\n",
      "glob2                                             0.7\n",
      "gmpy2                                             2.0.8\n",
      "google-auth                                       2.6.0\n",
      "google-auth-oauthlib                              0.4.6\n",
      "google-pasta                                      0.2.0\n",
      "greenlet                                          1.0.0\n",
      "grpcio                                            1.44.0\n",
      "h5py                                              3.6.0\n",
      "HeapDict                                          1.0.1\n",
      "helpdev                                           0.7.1\n",
      "html5lib                                          1.1\n",
      "huggingface-hub                                   0.4.0\n",
      "idna                                              3.3\n",
      "imageio                                           2.9.0\n",
      "imagesize                                         1.2.0\n",
      "imbalanced-learn                                  0.9.0\n",
      "imblearn                                          0.0\n",
      "importlib-metadata                                4.11.2\n",
      "importlib-resources                               5.4.0\n",
      "iniconfig                                         1.1.1\n",
      "install                                           1.3.5\n",
      "intervaltree                                      3.1.0\n",
      "ipykernel                                         6.9.0\n",
      "ipython                                           7.31.1\n",
      "ipython-genutils                                  0.2.0\n",
      "ipywidgets                                        7.6.5\n",
      "isort                                             5.8.0\n",
      "itsdangerous                                      1.1.0\n",
      "jdcal                                             1.4.1\n",
      "jedi                                              0.17.2\n",
      "Jinja2                                            2.11.3\n",
      "joblib                                            1.1.0\n",
      "json5                                             0.9.5\n",
      "jsonpath-ng                                       1.5.3\n",
      "jsonschema                                        4.4.0\n",
      "jupyter                                           1.0.0\n",
      "jupyter-client                                    7.1.2\n",
      "jupyter-console                                   6.4.0\n",
      "jupyter-core                                      4.9.1\n",
      "jupyter-packaging                                 0.7.12\n",
      "jupyter-server                                    1.4.1\n",
      "jupyterlab                                        3.2.9\n",
      "jupyterlab-pygments                               0.1.2\n",
      "jupyterlab-server                                 2.4.0\n",
      "jupyterlab-widgets                                1.0.2\n",
      "keras                                             2.8.0\n",
      "keras-nightly                                     2.5.0.dev2021032900\n",
      "Keras-Preprocessing                               1.1.2\n",
      "keyring                                           22.3.0\n",
      "kiwisolver                                        1.3.2\n",
      "lazy-object-proxy                                 1.6.0\n",
      "libarchive-c                                      2.9\n",
      "libclang                                          13.0.0\n",
      "llvmlite                                          0.37.0\n",
      "locket                                            0.2.1\n",
      "lockfile                                          0.11.0\n",
      "lxml                                              4.6.3\n",
      "Markdown                                          3.3.6\n",
      "MarkupSafe                                        2.0.1\n",
      "matplotlib                                        3.5.1\n",
      "matplotlib-inline                                 0.1.3\n",
      "mccabe                                            0.6.1\n",
      "mistune                                           0.8.4\n",
      "mizani                                            0.7.3\n",
      "mkl-fft                                           1.3.0\n",
      "mkl-random                                        1.2.1\n",
      "mkl-service                                       2.3.0\n",
      "mock                                              4.0.3\n",
      "more-itertools                                    8.7.0\n",
      "mpmath                                            1.2.1\n",
      "msgpack                                           1.0.2\n",
      "multidict                                         6.0.2\n",
      "multipledispatch                                  0.6.0\n",
      "mypy-extensions                                   0.4.3\n",
      "navigator-updater                                 0.2.1\n",
      "nbclassic                                         0.2.6\n",
      "nbclient                                          0.5.11\n",
      "nbconvert                                         6.4.1\n",
      "nbformat                                          5.1.3\n",
      "nest-asyncio                                      1.5.4\n",
      "networkx                                          2.5\n",
      "nltk                                              3.6.1\n",
      "nose                                              1.3.7\n",
      "notebook                                          6.4.8\n",
      "numba                                             0.54.1\n",
      "numexpr                                           2.7.3\n",
      "numpy                                             1.22.3\n",
      "numpydoc                                          1.1.0\n",
      "oauthlib                                          3.2.0\n",
      "olefile                                           0.46\n",
      "openpyxl                                          3.0.7\n",
      "opt-einsum                                        3.3.0\n",
      "packaging                                         21.3\n",
      "palettable                                        3.3.0\n",
      "pandas                                            1.4.1\n",
      "pandocfilters                                     1.5.0\n",
      "parso                                             0.7.0\n",
      "partd                                             1.2.0\n",
      "path                                              15.1.2\n",
      "pathlib2                                          2.3.5\n",
      "pathspec                                          0.7.0\n",
      "pathtools                                         0.1.2\n",
      "patsy                                             0.5.1\n",
      "pbr                                               0.11.1\n",
      "pep8                                              1.7.1\n",
      "pexpect                                           4.8.0\n",
      "pickle5                                           0.0.11\n",
      "pickleshare                                       0.7.5\n",
      "Pillow                                            9.0.1\n",
      "pip                                               22.0.4\n",
      "pkginfo                                           1.7.0\n",
      "plotly                                            5.5.0\n",
      "plotnine                                          0.8.0\n",
      "pluggy                                            0.13.1\n",
      "ply                                               3.11\n",
      "probableparsing                                   0.0.1\n",
      "prometheus-client                                 0.13.1\n",
      "prompt-toolkit                                    3.0.27\n",
      "protobuf                                          3.19.4\n",
      "psutil                                            5.8.0\n",
      "ptyprocess                                        0.7.0\n",
      "pure-eval                                         0.2.2\n",
      "py                                                1.10.0\n",
      "pyarrow                                           7.0.0\n",
      "pyasn1                                            0.4.8\n",
      "pyasn1-modules                                    0.2.8\n",
      "pyclustertend                                     1.7.0\n",
      "pycodestyle                                       2.6.0\n",
      "pycosat                                           0.6.3\n",
      "pycparser                                         2.21\n",
      "pycurl                                            7.43.0.6\n",
      "pydantic                                          1.9.0\n",
      "pydeck                                            0.7.1\n",
      "pydocstyle                                        6.0.0\n",
      "pyerfa                                            1.7.3\n",
      "pyflakes                                          2.2.0\n",
      "pyforest                                          1.1.0\n",
      "Pygments                                          2.11.2\n",
      "PyJWT                                             2.1.0\n",
      "pylint                                            2.7.4\n",
      "pyls-black                                        0.4.6\n",
      "pyls-spyder                                       0.3.2\n",
      "Pympler                                           1.0.1\n",
      "pyobjc                                            8.4\n",
      "pyobjc-core                                       8.4\n",
      "pyobjc-framework-Accessibility                    8.4\n",
      "pyobjc-framework-Accounts                         8.4\n",
      "pyobjc-framework-AddressBook                      8.4\n",
      "pyobjc-framework-AdServices                       8.4\n",
      "pyobjc-framework-AdSupport                        8.4\n",
      "pyobjc-framework-AppleScriptKit                   8.4\n",
      "pyobjc-framework-AppleScriptObjC                  8.4\n",
      "pyobjc-framework-ApplicationServices              8.4\n",
      "pyobjc-framework-AppTrackingTransparency          8.4\n",
      "pyobjc-framework-AudioVideoBridging               8.4\n",
      "pyobjc-framework-AuthenticationServices           8.4\n",
      "pyobjc-framework-AutomaticAssessmentConfiguration 8.4\n",
      "pyobjc-framework-Automator                        8.4\n",
      "pyobjc-framework-AVFoundation                     8.4\n",
      "pyobjc-framework-AVKit                            8.4\n",
      "pyobjc-framework-BusinessChat                     8.4\n",
      "pyobjc-framework-CalendarStore                    8.4\n",
      "pyobjc-framework-CallKit                          8.4\n",
      "pyobjc-framework-CFNetwork                        8.4\n",
      "pyobjc-framework-ClassKit                         8.4\n",
      "pyobjc-framework-CloudKit                         8.4\n",
      "pyobjc-framework-Cocoa                            8.4\n",
      "pyobjc-framework-Collaboration                    8.4\n",
      "pyobjc-framework-ColorSync                        8.4\n",
      "pyobjc-framework-Contacts                         8.4\n",
      "pyobjc-framework-ContactsUI                       8.4\n",
      "pyobjc-framework-CoreAudio                        8.4\n",
      "pyobjc-framework-CoreAudioKit                     8.4\n",
      "pyobjc-framework-CoreBluetooth                    8.4\n",
      "pyobjc-framework-CoreData                         8.4\n",
      "pyobjc-framework-CoreHaptics                      8.4\n",
      "pyobjc-framework-CoreLocation                     8.4\n",
      "pyobjc-framework-CoreMedia                        8.4\n",
      "pyobjc-framework-CoreMediaIO                      8.4\n",
      "pyobjc-framework-CoreMIDI                         8.4\n",
      "pyobjc-framework-CoreML                           8.4\n",
      "pyobjc-framework-CoreMotion                       8.4\n",
      "pyobjc-framework-CoreServices                     8.4\n",
      "pyobjc-framework-CoreSpotlight                    8.4\n",
      "pyobjc-framework-CoreText                         8.4\n",
      "pyobjc-framework-CoreWLAN                         8.4\n",
      "pyobjc-framework-CryptoTokenKit                   8.4\n",
      "pyobjc-framework-DataDetection                    8.4\n",
      "pyobjc-framework-DeviceCheck                      8.4\n",
      "pyobjc-framework-DictionaryServices               8.4\n",
      "pyobjc-framework-DiscRecording                    8.4\n",
      "pyobjc-framework-DiscRecordingUI                  8.4\n",
      "pyobjc-framework-DiskArbitration                  8.4\n",
      "pyobjc-framework-DVDPlayback                      8.4\n",
      "pyobjc-framework-EventKit                         8.4\n",
      "pyobjc-framework-ExceptionHandling                8.4\n",
      "pyobjc-framework-ExecutionPolicy                  8.4\n",
      "pyobjc-framework-ExternalAccessory                8.4\n",
      "pyobjc-framework-FileProvider                     8.4\n",
      "pyobjc-framework-FileProviderUI                   8.4\n",
      "pyobjc-framework-FinderSync                       8.4\n",
      "pyobjc-framework-FSEvents                         8.4\n",
      "pyobjc-framework-GameCenter                       8.4\n",
      "pyobjc-framework-GameController                   8.4\n",
      "pyobjc-framework-GameKit                          8.4\n",
      "pyobjc-framework-GameplayKit                      8.4\n",
      "pyobjc-framework-ImageCaptureCore                 8.4\n",
      "pyobjc-framework-IMServicePlugIn                  8.4\n",
      "pyobjc-framework-InputMethodKit                   8.4\n",
      "pyobjc-framework-InstallerPlugins                 8.4\n",
      "pyobjc-framework-InstantMessage                   8.4\n",
      "pyobjc-framework-Intents                          8.4\n",
      "pyobjc-framework-IntentsUI                        8.4\n",
      "pyobjc-framework-IOSurface                        8.4\n",
      "pyobjc-framework-iTunesLibrary                    8.4\n",
      "pyobjc-framework-KernelManagement                 8.4\n",
      "pyobjc-framework-LatentSemanticMapping            8.4\n",
      "pyobjc-framework-LaunchServices                   8.4\n",
      "pyobjc-framework-libdispatch                      8.4\n",
      "pyobjc-framework-LinkPresentation                 8.4\n",
      "pyobjc-framework-LocalAuthentication              8.4\n",
      "pyobjc-framework-LocalAuthenticationEmbeddedUI    8.4\n",
      "pyobjc-framework-MailKit                          8.4\n",
      "pyobjc-framework-MapKit                           8.4\n",
      "pyobjc-framework-MediaAccessibility               8.4\n",
      "pyobjc-framework-MediaLibrary                     8.4\n",
      "pyobjc-framework-MediaPlayer                      8.4\n",
      "pyobjc-framework-MediaToolbox                     8.4\n",
      "pyobjc-framework-Metal                            8.4\n",
      "pyobjc-framework-MetalKit                         8.4\n",
      "pyobjc-framework-MetalPerformanceShaders          8.4\n",
      "pyobjc-framework-MetalPerformanceShadersGraph     8.4\n",
      "pyobjc-framework-MetricKit                        8.4\n",
      "pyobjc-framework-MLCompute                        8.4\n",
      "pyobjc-framework-ModelIO                          8.4\n",
      "pyobjc-framework-MultipeerConnectivity            8.4\n",
      "pyobjc-framework-NaturalLanguage                  8.4\n",
      "pyobjc-framework-NetFS                            8.4\n",
      "pyobjc-framework-Network                          8.4\n",
      "pyobjc-framework-NetworkExtension                 8.4\n",
      "pyobjc-framework-NotificationCenter               8.4\n",
      "pyobjc-framework-OpenDirectory                    8.4\n",
      "pyobjc-framework-OSAKit                           8.4\n",
      "pyobjc-framework-OSLog                            8.4\n",
      "pyobjc-framework-PassKit                          8.4\n",
      "pyobjc-framework-PencilKit                        8.4\n",
      "pyobjc-framework-Photos                           8.4\n",
      "pyobjc-framework-PhotosUI                         8.4\n",
      "pyobjc-framework-PreferencePanes                  8.4\n",
      "pyobjc-framework-PushKit                          8.4\n",
      "pyobjc-framework-Quartz                           8.4\n",
      "pyobjc-framework-QuickLookThumbnailing            8.4\n",
      "pyobjc-framework-ReplayKit                        8.4\n",
      "pyobjc-framework-SafariServices                   8.4\n",
      "pyobjc-framework-SceneKit                         8.4\n",
      "pyobjc-framework-ScreenCaptureKit                 8.4\n",
      "pyobjc-framework-ScreenSaver                      8.4\n",
      "pyobjc-framework-ScreenTime                       8.4\n",
      "pyobjc-framework-ScriptingBridge                  8.4\n",
      "pyobjc-framework-SearchKit                        8.4\n",
      "pyobjc-framework-Security                         8.4\n",
      "pyobjc-framework-SecurityFoundation               8.4\n",
      "pyobjc-framework-SecurityInterface                8.4\n",
      "pyobjc-framework-ServiceManagement                8.4\n",
      "pyobjc-framework-ShazamKit                        8.4\n",
      "pyobjc-framework-Social                           8.4\n",
      "pyobjc-framework-SoundAnalysis                    8.4\n",
      "pyobjc-framework-Speech                           8.4\n",
      "pyobjc-framework-SpriteKit                        8.4\n",
      "pyobjc-framework-StoreKit                         8.4\n",
      "pyobjc-framework-SyncServices                     8.4\n",
      "pyobjc-framework-SystemConfiguration              8.4\n",
      "pyobjc-framework-SystemExtensions                 8.4\n",
      "pyobjc-framework-UniformTypeIdentifiers           8.4\n",
      "pyobjc-framework-UserNotifications                8.4\n",
      "pyobjc-framework-UserNotificationsUI              8.4\n",
      "pyobjc-framework-VideoSubscriberAccount           8.4\n",
      "pyobjc-framework-VideoToolbox                     8.4\n",
      "pyobjc-framework-Virtualization                   8.4\n",
      "pyobjc-framework-Vision                           8.4\n",
      "pyobjc-framework-WebKit                           8.4\n",
      "pyodbc                                            4.0.0-unsupported\n",
      "pyOpenSSL                                         20.0.1\n",
      "pyparsing                                         3.0.7\n",
      "PyQt5                                             5.12.3\n",
      "PyQt5-sip                                         12.9.1\n",
      "PyQtWebEngine                                     5.12.1\n",
      "pyrsistent                                        0.18.1\n",
      "PySocks                                           1.7.1\n",
      "pystache                                          0.5.4\n",
      "pytest                                            6.2.3\n",
      "python-crfsuite                                   0.9.7\n",
      "python-daemon                                     2.2.3\n",
      "python-dateutil                                   2.8.2\n",
      "python-jsonrpc-server                             0.4.0\n",
      "python-language-server                            0.36.2\n",
      "pytz                                              2021.3\n",
      "pytz-deprecation-shim                             0.1.0.post0\n",
      "PyWavelets                                        1.1.1\n",
      "PyYAML                                            6.0\n",
      "pyzmq                                             22.3.0\n",
      "QDarkStyle                                        2.8.1\n",
      "QtAwesome                                         1.0.2\n",
      "qtconsole                                         5.0.3\n",
      "QtPy                                              1.9.0\n",
      "regex                                             2022.3.2\n",
      "requests                                          2.27.1\n",
      "requests-oauthlib                                 1.3.1\n",
      "rope                                              0.18.0\n",
      "rsa                                               4.8\n",
      "Rtree                                             0.9.7\n",
      "ruamel.yaml                                       0.17.21\n",
      "ruamel.yaml.clib                                  0.2.6\n",
      "ruamel-yaml-conda                                 0.15.100\n",
      "sacremoses                                        0.0.47\n",
      "scikit-image                                      0.18.1\n",
      "scikit-learn                                      1.0.2\n",
      "scipy                                             1.7.3\n",
      "seaborn                                           0.11.2\n",
      "Send2Trash                                        1.8.0\n",
      "setuptools                                        60.9.3\n",
      "shap                                              0.40.0\n",
      "simplegeneric                                     0.8.1\n",
      "simplejson                                        3.2.0\n",
      "singledispatch                                    0.0.0\n",
      "six                                               1.16.0\n",
      "sklearn                                           0.0\n",
      "slicer                                            0.0.7\n",
      "smmap                                             5.0.0\n",
      "sniffio                                           1.2.0\n",
      "snowballstemmer                                   2.1.0\n",
      "sortedcollections                                 2.1.0\n",
      "sortedcontainers                                  2.3.0\n",
      "soupsieve                                         2.2.1\n",
      "Sphinx                                            4.0.1\n",
      "sphinxcontrib-applehelp                           1.0.2\n",
      "sphinxcontrib-devhelp                             1.0.2\n",
      "sphinxcontrib-htmlhelp                            1.0.3\n",
      "sphinxcontrib-jsmath                              1.0.1\n",
      "sphinxcontrib-qthelp                              1.0.3\n",
      "sphinxcontrib-serializinghtml                     1.1.4\n",
      "sphinxcontrib-websupport                          1.2.4\n",
      "spyder                                            4.2.5\n",
      "spyder-kernels                                    1.10.2\n",
      "SQLAlchemy                                        1.4.7\n",
      "statsmodels                                       0.12.2\n",
      "streamlit                                         1.5.1\n",
      "sympy                                             1.8\n",
      "tables                                            3.6.1\n",
      "tblib                                             1.7.0\n",
      "tenacity                                          8.0.1\n",
      "tensorboard                                       2.8.0\n",
      "tensorboard-data-server                           0.6.1\n",
      "tensorboard-plugin-wit                            1.8.1\n",
      "tensorflow                                        2.8.0\n",
      "tensorflow-estimator                              2.8.0\n",
      "tensorflow-io-gcs-filesystem                      0.24.0\n",
      "termcolor                                         1.1.0\n",
      "terminado                                         0.13.1\n",
      "testpath                                          0.5.0\n",
      "textdistance                                      4.2.1\n",
      "tf-estimator-nightly                              2.8.0.dev2021122109\n",
      "threadpoolctl                                     3.1.0\n",
      "three-merge                                       0.1.1\n",
      "tifffile                                          2020.10.1\n",
      "tokenizers                                        0.11.4\n",
      "toml                                              0.10.2\n",
      "toolz                                             0.11.2\n",
      "tornado                                           6.1\n",
      "tqdm                                              4.62.3\n",
      "traitlets                                         5.1.1\n",
      "transformers                                      4.16.2\n",
      "typed-ast                                         1.4.2\n",
      "typing_extensions                                 4.1.1\n",
      "tzdata                                            2021.5\n",
      "tzlocal                                           4.1\n",
      "ujson                                             4.0.2\n",
      "unicodecsv                                        0.14.1\n",
      "urllib3                                           1.26.8\n",
      "validators                                        0.18.2\n",
      "watchdog                                          1.0.2\n",
      "wcwidth                                           0.2.5\n",
      "webencodings                                      0.5.1\n",
      "Werkzeug                                          2.0.3\n",
      "wheel                                             0.37.1\n",
      "widgetsnbextension                                3.5.2\n",
      "wordcloud                                         1.8.1\n",
      "wrapt                                             1.13.3\n",
      "wurlitzer                                         2.1.0\n",
      "xgboost                                           1.5.2\n",
      "xlrd                                              2.0.1\n",
      "XlsxWriter                                        1.3.8\n",
      "xlwings                                           0.23.0\n",
      "xlwt                                              1.3.0\n",
      "xmltodict                                         0.12.0\n",
      "yapf                                              0.31.0\n",
      "yarl                                              1.7.2\n",
      "yellowbrick                                       1.3.post1\n",
      "zict                                              2.0.0\n",
      "zipp                                              3.7.0\n",
      "zope.event                                        4.5.0\n",
      "zope.interface                                    5.3.0\n",
      "Note: you may need to restart the kernel to use updated packages.\n"
     ]
    }
   ],
   "source": [
    "pip list"
   ]
  },
  {
   "cell_type": "markdown",
   "metadata": {},
   "source": [
    "# Keras Syntax Basics"
   ]
  },
  {
   "cell_type": "code",
   "execution_count": 1,
   "metadata": {},
   "outputs": [],
   "source": [
    "import numpy as np\n",
    "import pandas as pd\n",
    "import matplotlib.pyplot as plt\n",
    "import seaborn as sns\n",
    "\n",
    "import warnings\n",
    "warnings.filterwarnings(\"ignore\")\n",
    "warnings.warn(\"this will not show\")\n",
    "\n",
    "plt.rcParams[\"figure.figsize\"] = (10,6)\n",
    "\n",
    "sns.set_style(\"whitegrid\")\n",
    "pd.set_option('display.float_format', lambda x: '%.3f' % x)\n",
    "\n",
    "# Set it None to display all rows in the dataframe\n",
    "# pd.set_option('display.max_rows', None)\n",
    "\n",
    "# Set it to None to display all columns in the dataframe\n",
    "pd.set_option('display.max_columns', None)"
   ]
  },
  {
   "cell_type": "code",
   "execution_count": 2,
   "metadata": {},
   "outputs": [],
   "source": [
    "#from google.colab import drive\n",
    "#drive.mount('/content/drive')"
   ]
  },
  {
   "cell_type": "code",
   "execution_count": 3,
   "metadata": {},
   "outputs": [],
   "source": [
    "#df = pd.read_csv(\"drive/MyDrive/Colab_Files/data/fake_reg.csv\")"
   ]
  },
  {
   "cell_type": "code",
   "execution_count": 4,
   "metadata": {},
   "outputs": [],
   "source": [
    "df = pd.read_csv(\"fake_reg.csv\")"
   ]
  },
  {
   "cell_type": "markdown",
   "metadata": {},
   "source": [
    "## Exploratory Data Analysis and Visualization"
   ]
  },
  {
   "cell_type": "markdown",
   "metadata": {},
   "source": [
    "Iki feature' a gore price tahmini yapan bir model olusturacagiz. (Regression modeli)"
   ]
  },
  {
   "cell_type": "code",
   "execution_count": 5,
   "metadata": {},
   "outputs": [
    {
     "data": {
      "text/html": [
       "<div>\n",
       "<style scoped>\n",
       "    .dataframe tbody tr th:only-of-type {\n",
       "        vertical-align: middle;\n",
       "    }\n",
       "\n",
       "    .dataframe tbody tr th {\n",
       "        vertical-align: top;\n",
       "    }\n",
       "\n",
       "    .dataframe thead th {\n",
       "        text-align: right;\n",
       "    }\n",
       "</style>\n",
       "<table border=\"1\" class=\"dataframe\">\n",
       "  <thead>\n",
       "    <tr style=\"text-align: right;\">\n",
       "      <th></th>\n",
       "      <th>price</th>\n",
       "      <th>feature1</th>\n",
       "      <th>feature2</th>\n",
       "    </tr>\n",
       "  </thead>\n",
       "  <tbody>\n",
       "    <tr>\n",
       "      <th>0</th>\n",
       "      <td>461.528</td>\n",
       "      <td>999.788</td>\n",
       "      <td>999.766</td>\n",
       "    </tr>\n",
       "    <tr>\n",
       "      <th>1</th>\n",
       "      <td>548.130</td>\n",
       "      <td>998.862</td>\n",
       "      <td>1001.042</td>\n",
       "    </tr>\n",
       "    <tr>\n",
       "      <th>2</th>\n",
       "      <td>410.297</td>\n",
       "      <td>1000.070</td>\n",
       "      <td>998.844</td>\n",
       "    </tr>\n",
       "    <tr>\n",
       "      <th>3</th>\n",
       "      <td>540.382</td>\n",
       "      <td>999.952</td>\n",
       "      <td>1000.441</td>\n",
       "    </tr>\n",
       "    <tr>\n",
       "      <th>4</th>\n",
       "      <td>546.025</td>\n",
       "      <td>1000.446</td>\n",
       "      <td>1000.339</td>\n",
       "    </tr>\n",
       "  </tbody>\n",
       "</table>\n",
       "</div>"
      ],
      "text/plain": [
       "    price  feature1  feature2\n",
       "0 461.528   999.788   999.766\n",
       "1 548.130   998.862  1001.042\n",
       "2 410.297  1000.070   998.844\n",
       "3 540.382   999.952  1000.441\n",
       "4 546.025  1000.446  1000.339"
      ]
     },
     "execution_count": 5,
     "metadata": {},
     "output_type": "execute_result"
    }
   ],
   "source": [
    "df.head()"
   ]
  },
  {
   "cell_type": "code",
   "execution_count": 6,
   "metadata": {},
   "outputs": [
    {
     "name": "stdout",
     "output_type": "stream",
     "text": [
      "<class 'pandas.core.frame.DataFrame'>\n",
      "RangeIndex: 1000 entries, 0 to 999\n",
      "Data columns (total 3 columns):\n",
      " #   Column    Non-Null Count  Dtype  \n",
      "---  ------    --------------  -----  \n",
      " 0   price     1000 non-null   float64\n",
      " 1   feature1  1000 non-null   float64\n",
      " 2   feature2  1000 non-null   float64\n",
      "dtypes: float64(3)\n",
      "memory usage: 23.6 KB\n"
     ]
    }
   ],
   "source": [
    "df.info()"
   ]
  },
  {
   "cell_type": "code",
   "execution_count": 7,
   "metadata": {},
   "outputs": [
    {
     "data": {
      "text/html": [
       "<div>\n",
       "<style scoped>\n",
       "    .dataframe tbody tr th:only-of-type {\n",
       "        vertical-align: middle;\n",
       "    }\n",
       "\n",
       "    .dataframe tbody tr th {\n",
       "        vertical-align: top;\n",
       "    }\n",
       "\n",
       "    .dataframe thead th {\n",
       "        text-align: right;\n",
       "    }\n",
       "</style>\n",
       "<table border=\"1\" class=\"dataframe\">\n",
       "  <thead>\n",
       "    <tr style=\"text-align: right;\">\n",
       "      <th></th>\n",
       "      <th>count</th>\n",
       "      <th>mean</th>\n",
       "      <th>std</th>\n",
       "      <th>min</th>\n",
       "      <th>25%</th>\n",
       "      <th>50%</th>\n",
       "      <th>75%</th>\n",
       "      <th>max</th>\n",
       "    </tr>\n",
       "  </thead>\n",
       "  <tbody>\n",
       "    <tr>\n",
       "      <th>price</th>\n",
       "      <td>1000.000</td>\n",
       "      <td>498.673</td>\n",
       "      <td>93.785</td>\n",
       "      <td>223.347</td>\n",
       "      <td>433.026</td>\n",
       "      <td>502.382</td>\n",
       "      <td>564.922</td>\n",
       "      <td>774.408</td>\n",
       "    </tr>\n",
       "    <tr>\n",
       "      <th>feature1</th>\n",
       "      <td>1000.000</td>\n",
       "      <td>1000.014</td>\n",
       "      <td>0.974</td>\n",
       "      <td>997.058</td>\n",
       "      <td>999.332</td>\n",
       "      <td>1000.010</td>\n",
       "      <td>1000.638</td>\n",
       "      <td>1003.208</td>\n",
       "    </tr>\n",
       "    <tr>\n",
       "      <th>feature2</th>\n",
       "      <td>1000.000</td>\n",
       "      <td>999.980</td>\n",
       "      <td>0.948</td>\n",
       "      <td>996.996</td>\n",
       "      <td>999.316</td>\n",
       "      <td>1000.002</td>\n",
       "      <td>1000.645</td>\n",
       "      <td>1002.666</td>\n",
       "    </tr>\n",
       "  </tbody>\n",
       "</table>\n",
       "</div>"
      ],
      "text/plain": [
       "            count     mean    std     min     25%      50%      75%      max\n",
       "price    1000.000  498.673 93.785 223.347 433.026  502.382  564.922  774.408\n",
       "feature1 1000.000 1000.014  0.974 997.058 999.332 1000.010 1000.638 1003.208\n",
       "feature2 1000.000  999.980  0.948 996.996 999.316 1000.002 1000.645 1002.666"
      ]
     },
     "execution_count": 7,
     "metadata": {},
     "output_type": "execute_result"
    }
   ],
   "source": [
    "df.describe().T"
   ]
  },
  {
   "cell_type": "markdown",
   "metadata": {},
   "source": [
    "feature1 ile price arasinda positive-weak, feature2 ile price arasinda positive-strong bir iliski var.feature1 ile feature2 arasinda hicbir iliski yok :"
   ]
  },
  {
   "cell_type": "code",
   "execution_count": 8,
   "metadata": {},
   "outputs": [
    {
     "data": {
      "image/png": "[encoded data removed]",
      "text/plain": [
       "<Figure size 540x540 with 12 Axes>"
      ]
     },
     "metadata": {},
     "output_type": "display_data"
    }
   ],
   "source": [
    "sns.pairplot(df);"
   ]
  },
  {
   "cell_type": "code",
   "execution_count": 9,
   "metadata": {},
   "outputs": [
    {
     "data": {
      "text/html": [
       "<div>\n",
       "<style scoped>\n",
       "    .dataframe tbody tr th:only-of-type {\n",
       "        vertical-align: middle;\n",
       "    }\n",
       "\n",
       "    .dataframe tbody tr th {\n",
       "        vertical-align: top;\n",
       "    }\n",
       "\n",
       "    .dataframe thead th {\n",
       "        text-align: right;\n",
       "    }\n",
       "</style>\n",
       "<table border=\"1\" class=\"dataframe\">\n",
       "  <thead>\n",
       "    <tr style=\"text-align: right;\">\n",
       "      <th></th>\n",
       "      <th>price</th>\n",
       "      <th>feature1</th>\n",
       "      <th>feature2</th>\n",
       "    </tr>\n",
       "  </thead>\n",
       "  <tbody>\n",
       "    <tr>\n",
       "      <th>price</th>\n",
       "      <td>1.000</td>\n",
       "      <td>0.444</td>\n",
       "      <td>0.908</td>\n",
       "    </tr>\n",
       "    <tr>\n",
       "      <th>feature1</th>\n",
       "      <td>0.444</td>\n",
       "      <td>1.000</td>\n",
       "      <td>0.031</td>\n",
       "    </tr>\n",
       "    <tr>\n",
       "      <th>feature2</th>\n",
       "      <td>0.908</td>\n",
       "      <td>0.031</td>\n",
       "      <td>1.000</td>\n",
       "    </tr>\n",
       "  </tbody>\n",
       "</table>\n",
       "</div>"
      ],
      "text/plain": [
       "          price  feature1  feature2\n",
       "price     1.000     0.444     0.908\n",
       "feature1  0.444     1.000     0.031\n",
       "feature2  0.908     0.031     1.000"
      ]
     },
     "execution_count": 9,
     "metadata": {},
     "output_type": "execute_result"
    }
   ],
   "source": [
    "df.corr()"
   ]
  },
  {
   "cell_type": "markdown",
   "metadata": {},
   "source": [
    "## Preprocessing of Data\n",
    "- Train | Test Split, Scalling"
   ]
  },
  {
   "cell_type": "code",
   "execution_count": 10,
   "metadata": {},
   "outputs": [],
   "source": [
    "from sklearn.model_selection import train_test_split"
   ]
  },
  {
   "cell_type": "markdown",
   "metadata": {},
   "source": [
    "ML' den farkli olarak X ve y' de value degerleri aliniyor cunku DL modelleri datayi array halinde ister, DataFrame istemez. Cunku DL' de cok daha fazla parametre vardir ve cok daha fazla islem yapilir. Datanin array olmasi da hizi artirir. Value' lari almak yerine datayi scale edersek de ayni islemi yapmis oluruz :"
   ]
  },
  {
   "cell_type": "code",
   "execution_count": 11,
   "metadata": {},
   "outputs": [],
   "source": [
    "X = df[['feature1', 'feature2']].values\n",
    "y = df['price'].values"
   ]
  },
  {
   "cell_type": "code",
   "execution_count": 12,
   "metadata": {},
   "outputs": [
    {
     "data": {
      "text/plain": [
       "array([[ 999.78755752,  999.7660962 ],\n",
       "       [ 998.86161491, 1001.04240315],\n",
       "       [1000.07026691,  998.84401463],\n",
       "       ...,\n",
       "       [1001.45164617,  998.84760554],\n",
       "       [1000.77102275,  998.56285086],\n",
       "       [ 999.2322436 , 1001.45140713]])"
      ]
     },
     "execution_count": 12,
     "metadata": {},
     "output_type": "execute_result"
    }
   ],
   "source": [
    "X"
   ]
  },
  {
   "cell_type": "code",
   "execution_count": 13,
   "metadata": {},
   "outputs": [
    {
     "data": {
      "text/plain": [
       "array([461.52792939, 548.13001146, 410.29716167, 540.38221981,\n",
       "       546.02455292, 542.9836716 , 555.48566416, 417.56972453,\n",
       "       373.14653122, 633.35029248, 624.24709206, 475.37241721,\n",
       "       600.36844486, 532.83295175, 472.8353628 , 506.31229096,\n",
       "       508.414406  , 610.4553519 , 323.65776198, 446.21230389,\n",
       "       362.12270299, 433.41064026, 562.00257647, 637.30962074,\n",
       "       522.80800754, 469.8028243 , 543.10992778, 565.43416994,\n",
       "       530.03285381, 610.58016503, 482.55641188, 327.56004052,\n",
       "       579.73083872, 448.42981468, 628.97709187, 536.79737216,\n",
       "       570.06729543, 357.82557519, 612.08492732, 444.67970846,\n",
       "       600.1186364 , 523.53312776, 512.94994495, 614.8813169 ,\n",
       "       404.35303251, 643.68851807, 488.95660398, 443.20468572,\n",
       "       514.47906638, 514.88174058, 325.05852217, 554.6620585 ,\n",
       "       451.39140001, 587.67887726, 477.73749721, 574.51560687,\n",
       "       548.9107991 , 528.69088356, 443.21100482, 397.88209319,\n",
       "       355.79535223, 460.69478138, 534.7673737 , 537.6067329 ,\n",
       "       603.66990347, 547.27579153, 567.30862153, 454.32901321,\n",
       "       492.60451447, 643.13593178, 477.4305163 , 497.41251837,\n",
       "       559.04378534, 576.67843837, 292.1917811 , 542.99539996,\n",
       "       547.73198239, 507.43439141, 408.12200074, 595.43348561,\n",
       "       463.3552036 , 468.35698045, 462.00480189, 410.35912407,\n",
       "       467.46059552, 497.23978613, 411.63794464, 583.06598409,\n",
       "       441.95036691, 536.04090915, 530.98717439, 364.50842093,\n",
       "       626.06865169, 434.62971003, 523.02344198, 484.10880902,\n",
       "       411.57560703, 722.26394433, 519.46299177, 558.50321048,\n",
       "       526.24297782, 531.27754687, 470.89067007, 459.92494538,\n",
       "       577.58298501, 599.90573138, 584.92843756, 357.34223391,\n",
       "       392.04726871, 515.77844597, 390.2092368 , 497.49148239,\n",
       "       506.74032509, 395.51477512, 239.65626376, 507.6052943 ,\n",
       "       628.84940437, 468.07324688, 444.9447339 , 527.31719596,\n",
       "       415.44298463, 363.4303791 , 591.86909195, 391.12466656,\n",
       "       526.1019196 , 402.00959595, 563.67781737, 362.24018346,\n",
       "       514.31349869, 322.31435197, 513.519732  , 340.05814212,\n",
       "       560.79471778, 489.79459784, 381.07367881, 558.34939279,\n",
       "       451.8041724 , 451.79140134, 442.17202786, 488.78691774,\n",
       "       433.09376956, 518.00709658, 511.69454654, 334.89459622,\n",
       "       490.78489309, 510.46356567, 565.02540892, 542.30140508,\n",
       "       655.42619806, 433.51753016, 373.06190748, 517.32199998,\n",
       "       609.96955536, 401.28033698, 540.74381886, 410.53824963,\n",
       "       441.7417974 , 448.70138654, 377.57042607, 450.85178618,\n",
       "       695.08064351, 548.94851249, 479.70887661, 345.01181992,\n",
       "       576.85255167, 337.95129476, 466.8394786 , 429.91541295,\n",
       "       567.88189283, 422.77852605, 559.7847254 , 503.75687251,\n",
       "       355.35228879, 622.37147383, 450.9760715 , 591.71413509,\n",
       "       522.42993416, 474.08634639, 423.05243386, 466.70445806,\n",
       "       481.92547045, 362.91867606, 566.05763935, 457.05958811,\n",
       "       580.88060484, 497.33921897, 519.17237518, 640.40485258,\n",
       "       477.25839763, 506.50370548, 634.2482933 , 311.87137765,\n",
       "       556.61215428, 446.36031515, 543.83027912, 617.61509904,\n",
       "       491.55128715, 441.90522674, 418.45717839, 524.47348399,\n",
       "       483.13482709, 622.99764305, 424.60840775, 515.14753991,\n",
       "       496.89047668, 534.23436696, 627.3802761 , 460.02329028,\n",
       "       338.13384172, 397.62059618, 562.05793604, 504.69389644,\n",
       "       490.99787402, 361.42640522, 608.12804021, 625.07938608,\n",
       "       461.38078609, 533.07210805, 438.26540597, 404.14239475,\n",
       "       458.52789767, 455.13953399, 521.87959462, 507.09798982,\n",
       "       480.80694031, 539.68399729, 376.32625533, 449.458484  ,\n",
       "       457.77794629, 531.16341758, 599.81185581, 526.67361757,\n",
       "       512.1515175 , 510.02950867, 391.26547583, 593.6677957 ,\n",
       "       415.60708684, 469.07283863, 485.22477592, 354.92884232,\n",
       "       316.63684801, 464.44494809, 649.39591652, 474.02501346,\n",
       "       551.56006043, 631.88915741, 597.71257172, 532.62879772,\n",
       "       445.58282142, 599.92382612, 375.95938044, 581.90748483,\n",
       "       464.9944057 , 417.23887206, 570.6460653 , 414.754452  ,\n",
       "       578.22402034, 405.92898949, 626.6797543 , 484.01952653,\n",
       "       275.33337527, 531.66193891, 223.34679276, 637.77896908,\n",
       "       553.87999612, 487.7379163 , 439.09025956, 378.04069831,\n",
       "       379.23669121, 537.12524033, 553.12387811, 505.69270877,\n",
       "       421.53806534, 510.88504979, 567.19470601, 697.70715802,\n",
       "       388.74663225, 578.32901814, 734.2765031 , 449.32814488,\n",
       "       512.04904895, 357.29591446, 360.23212493, 395.12045332,\n",
       "       423.70001699, 443.80983891, 595.96581968, 515.56181283,\n",
       "       531.9290881 , 530.13508628, 448.63240577, 527.61587693,\n",
       "       453.45829752, 417.54122635, 656.97308566, 546.23137991,\n",
       "       492.93591939, 379.90913372, 511.36670783, 503.51419982,\n",
       "       519.46055247, 611.14763688, 411.05157782, 403.41301547,\n",
       "       496.75415064, 466.00440866, 528.12861343, 633.45125327,\n",
       "       567.04497795, 435.09849106, 537.92888483, 452.71044444,\n",
       "       609.3840753 , 396.1965711 , 504.43137263, 626.69427794,\n",
       "       493.01201779, 724.47187575, 713.46667346, 565.19184559,\n",
       "       551.57372795, 451.89764782, 565.96723066, 367.7919044 ,\n",
       "       576.32144345, 579.42843094, 489.09760772, 487.18793877,\n",
       "       621.11885596, 481.90704139, 700.98368025, 599.99118092,\n",
       "       522.35888373, 646.8239136 , 568.61318745, 511.29824533,\n",
       "       760.65101669, 304.43261518, 543.32064222, 399.86651896,\n",
       "       585.16821441, 484.229812  , 425.84365096, 550.47494925,\n",
       "       325.79480263, 364.03501381, 439.49653517, 518.26312427,\n",
       "       693.9884929 , 512.59570173, 257.71199724, 524.32438029,\n",
       "       402.1955134 , 579.85178649, 476.07122974, 411.18423872,\n",
       "       367.76354239, 400.63495186, 609.58070746, 612.47025609,\n",
       "       366.3818868 , 485.50390003, 443.39703561, 479.56906767,\n",
       "       559.69848911, 432.82161991, 328.20550401, 524.37119547,\n",
       "       552.77893509, 630.61363933, 424.81078609, 375.13754715,\n",
       "       338.93370122, 574.74001083, 355.81485125, 378.79339707,\n",
       "       555.99978702, 642.3708192 , 347.87631327, 330.08230225,\n",
       "       392.70436827, 519.32640956, 612.7537015 , 469.24686052,\n",
       "       460.31999098, 646.25928592, 452.73449935, 446.6617038 ,\n",
       "       392.57787377, 419.11235041, 485.67140382, 533.55074599,\n",
       "       558.68796948, 433.41514433, 572.67843212, 474.34929884,\n",
       "       587.45566743, 603.60488162, 679.89502292, 454.02841184,\n",
       "       641.29636111, 523.12643425, 451.86441942, 369.91451298,\n",
       "       602.12024979, 589.28379767, 552.35874313, 497.82077751,\n",
       "       645.7084402 , 299.39441419, 416.37530318, 371.22410361,\n",
       "       305.42221221, 476.19497523, 718.25653986, 481.64581321,\n",
       "       449.79721212, 423.13089618, 487.23276805, 486.74414447,\n",
       "       333.08087339, 560.13543661, 711.65777328, 424.61108821,\n",
       "       367.88499002, 502.8467149 , 661.16436862, 422.44243544,\n",
       "       612.72791033, 526.44751951, 462.88163084, 574.57837765,\n",
       "       477.80625993, 431.18869681, 596.27161677, 367.04561733,\n",
       "       610.29650189, 573.83826959, 561.6815936 , 316.9505926 ,\n",
       "       353.78339461, 462.24239731, 395.74531349, 461.17944502,\n",
       "       265.31883491, 516.28603756, 495.54358534, 655.0298841 ,\n",
       "       361.96928555, 383.93441552, 339.21223298, 438.97699136,\n",
       "       518.36039543, 587.06918986, 513.58851064, 541.1289475 ,\n",
       "       318.2422866 , 407.41050587, 401.53996228, 530.27625921,\n",
       "       421.52951149, 509.05805746, 460.1838563 , 387.89272462,\n",
       "       560.93779062, 586.55980649, 426.36278463, 479.91915661,\n",
       "       525.70465661, 555.42087135, 530.68301453, 469.87238663,\n",
       "       606.31505182, 364.85210784, 360.16078118, 425.10615848,\n",
       "       365.56087755, 480.23012282, 533.48426265, 477.32136011,\n",
       "       685.07306529, 595.85363797, 510.87857855, 403.69954917,\n",
       "       493.96420737, 368.9200954 , 549.84762007, 601.76780838,\n",
       "       508.20389135, 418.93004519, 564.36822362, 604.11066099,\n",
       "       599.28050672, 527.88077226, 547.07286694, 576.8926402 ,\n",
       "       491.80281223, 518.70630218, 532.62653164, 685.21654079,\n",
       "       441.38724011, 315.51892903, 581.51143808, 585.15669192,\n",
       "       481.20614899, 470.46051802, 535.54367583, 489.05755196,\n",
       "       731.50955837, 539.7932304 , 421.26795581, 480.59911503,\n",
       "       530.21039882, 464.11587006, 633.4727288 , 449.41611879,\n",
       "       635.34706613, 537.24922805, 572.38065064, 553.90462877,\n",
       "       616.51060101, 402.29631873, 456.89995237, 505.74726413,\n",
       "       601.63849578, 510.88661196, 556.83209711, 379.10982057,\n",
       "       453.49681218, 594.68664574, 567.46368769, 498.9283394 ,\n",
       "       413.10071452, 437.18179741, 699.73384102, 351.42908062,\n",
       "       593.23051938, 544.18131004, 438.76371594, 446.87698755,\n",
       "       471.99435967, 461.14062423, 689.1734889 , 521.79699247,\n",
       "       603.88757737, 655.39140319, 369.78582541, 509.84188626,\n",
       "       475.17585767, 338.0902386 , 480.80616796, 587.30777032,\n",
       "       503.39000141, 518.12788339, 506.33929863, 647.36155957,\n",
       "       453.13824142, 396.04998476, 612.50533943, 618.93363459,\n",
       "       524.56895456, 666.06222545, 657.95491426, 496.06904958,\n",
       "       524.38393835, 461.49048992, 433.99838446, 572.31305385,\n",
       "       451.92641532, 362.68807582, 514.89474416, 427.36956977,\n",
       "       435.51362445, 566.27172557, 452.37238329, 375.62302356,\n",
       "       466.49020065, 465.17802914, 405.40016562, 427.74126221,\n",
       "       358.85061321, 481.53346268, 358.68011197, 375.31180205,\n",
       "       550.14246248, 556.54397565, 595.38094652, 512.58377753,\n",
       "       665.04739236, 549.29054549, 569.87336031, 550.29340062,\n",
       "       607.41940296, 617.37737732, 613.42662915, 604.57261409,\n",
       "       516.98581378, 401.89505573, 448.55357219, 475.94699622,\n",
       "       501.89188819, 498.6284209 , 474.2054026 , 568.60477798,\n",
       "       698.41041396, 550.89673991, 481.52436972, 498.46359085,\n",
       "       515.90099007, 478.08030334, 562.84736681, 578.52385723,\n",
       "       564.9556813 , 497.46472684, 526.34259721, 568.73205922,\n",
       "       439.65054024, 624.99250404, 370.74177754, 553.07681733,\n",
       "       414.85687715, 448.51914416, 347.1911182 , 631.56069392,\n",
       "       527.05754159, 553.32419751, 514.40564086, 444.05469284,\n",
       "       341.68789552, 565.24995494, 436.55494972, 548.61436053,\n",
       "       501.62206015, 362.24928105, 309.35587863, 435.26155328,\n",
       "       428.31614877, 308.22343125, 536.59066876, 774.40785445,\n",
       "       428.84321279, 552.88912902, 297.29389413, 637.85870827,\n",
       "       564.11153791, 648.01014932, 404.12928655, 508.82552564,\n",
       "       539.54049318, 467.66852221, 489.12458007, 571.18829179,\n",
       "       497.72274826, 396.92876859, 414.11072814, 406.28845394,\n",
       "       579.55848998, 406.6160671 , 515.21520276, 564.18681488,\n",
       "       578.58860646, 408.28620182, 581.54252662, 667.4812481 ,\n",
       "       622.86551828, 500.13304581, 379.13131207, 502.71948002,\n",
       "       343.73541799, 441.48474021, 499.21235117, 542.36204897,\n",
       "       547.62404325, 535.92947542, 461.52076712, 529.4394398 ,\n",
       "       521.61588724, 547.71292837, 584.38110772, 465.99980649,\n",
       "       489.99646515, 634.5322379 , 639.81836225, 500.7218448 ,\n",
       "       514.69378589, 380.13984916, 402.78860922, 507.44318662,\n",
       "       516.66204986, 246.73972006, 345.85149947, 728.54158643,\n",
       "       593.47480723, 623.05449555, 466.78702434, 524.96702947,\n",
       "       695.77282817, 498.19000033, 420.23890075, 449.25967508,\n",
       "       518.34877268, 608.64466352, 476.08427344, 425.4599912 ,\n",
       "       388.0260642 , 595.54443191, 606.21795936, 502.35831316,\n",
       "       470.9635849 , 565.07689035, 570.16851237, 505.63188399,\n",
       "       443.18691766, 387.64605588, 592.7579165 , 528.1454695 ,\n",
       "       610.09170764, 543.3237843 , 651.39612886, 552.91452026,\n",
       "       662.92504623, 571.70626262, 521.7744574 , 565.9362005 ,\n",
       "       526.29247961, 525.55617773, 547.12901446, 556.38156913,\n",
       "       643.55257205, 310.19085317, 316.97373493, 581.24757434,\n",
       "       675.76026898, 637.27161099, 503.27065876, 386.83158001,\n",
       "       449.22797293, 624.15619847, 708.0181058 , 436.66965907,\n",
       "       582.4550663 , 523.15977914, 454.01363039, 458.33002662,\n",
       "       553.13406068, 575.68656759, 399.74690881, 479.03778184,\n",
       "       377.13616236, 611.84754884, 457.69568614, 320.68694051,\n",
       "       607.66473078, 431.47987323, 536.00593624, 487.25310045,\n",
       "       357.11605236, 406.97496006, 367.88456147, 352.28258718,\n",
       "       428.43268624, 674.31102047, 455.03533539, 493.53818767,\n",
       "       323.74660823, 570.87438588, 522.35358676, 512.37078567,\n",
       "       344.445388  , 603.44292484, 494.19769248, 623.10445015,\n",
       "       615.5627227 , 501.09520221, 460.4308638 , 511.19375671,\n",
       "       619.10478486, 425.20422156, 439.38667763, 609.7226948 ,\n",
       "       520.97315983, 564.91022293, 574.57307473, 273.43263798,\n",
       "       416.57967214, 414.00400534, 602.54914671, 501.81396346,\n",
       "       657.25888889, 545.58520276, 363.11433585, 587.10134867,\n",
       "       535.98312568, 357.044414  , 543.91850962, 487.46952396,\n",
       "       491.03773416, 618.12341696, 442.93357949, 528.44015453,\n",
       "       492.87327105, 497.04387645, 606.29736199, 368.90204456,\n",
       "       463.83315596, 411.35636173, 670.21237633, 408.52236362,\n",
       "       484.43638366, 492.6419263 , 381.85298995, 613.95995262,\n",
       "       327.36024129, 491.79240663, 585.44412785, 380.3945669 ,\n",
       "       554.7626666 , 493.85668075, 526.2107462 , 385.39655988,\n",
       "       484.46159148, 332.22764352, 564.67207171, 649.44006825,\n",
       "       424.72778986, 618.08695111, 511.89276394, 331.12168828,\n",
       "       558.16409431, 493.56964948, 396.05573683, 631.37140169,\n",
       "       478.44486619, 628.54499456, 499.75474684, 506.8234736 ,\n",
       "       258.64403747, 478.35823792, 460.54250824, 552.62665953,\n",
       "       519.60816751, 456.98761551, 562.62597526, 560.98721013,\n",
       "       588.24268147, 579.43065472, 490.68891134, 372.77743562,\n",
       "       677.27628686, 420.76621323, 478.08636807, 608.79918051,\n",
       "       498.40036414, 351.09008918, 604.7965235 , 584.29415078,\n",
       "       552.36859639, 514.85636404, 324.75278473, 551.65009963,\n",
       "       646.42137115, 412.01627785, 542.05581314, 376.82027575,\n",
       "       485.65542199, 530.00104432, 531.48237221, 502.90170221,\n",
       "       320.22783441, 410.17228689, 307.49262471, 414.32154328,\n",
       "       429.47259522, 611.37280691, 579.49800824, 645.84815363,\n",
       "       528.21987259, 487.29933081, 530.99314592, 374.19760282,\n",
       "       453.82582684, 535.04562659, 381.36832678, 657.71868008,\n",
       "       403.06256371, 502.40592148, 612.48716221, 473.14373027,\n",
       "       648.49853653, 477.59301587, 478.85719007, 469.11310605,\n",
       "       558.87741587, 560.67805186, 484.56010504, 602.9701103 ,\n",
       "       501.88831717, 296.98984675, 409.95257743, 429.21452014,\n",
       "       529.71971585, 503.21614081, 656.65474461, 378.81430465,\n",
       "       627.64016416, 420.35676968, 347.19521436, 559.96108847,\n",
       "       437.90401436, 382.48198573, 446.61250992, 578.94348317,\n",
       "       427.85700338, 563.58363749, 603.55869587, 445.94046658,\n",
       "       577.31665049, 453.9716661 , 367.16096642, 591.50358214,\n",
       "       404.90316218, 403.90327413, 425.48260511, 657.80019814,\n",
       "       664.50877632, 503.05044876, 518.66756145, 544.49878325,\n",
       "       409.67675815, 338.5727094 , 427.48699506, 349.71799435,\n",
       "       434.38654316, 549.93636627, 524.5896561 , 502.90947332,\n",
       "       342.05906592, 622.03205011, 654.83912076, 434.69375374,\n",
       "       470.5546375 , 380.47707861, 560.3817655 , 549.2573511 ,\n",
       "       494.25163915, 450.42484415, 594.84047708, 412.90687671,\n",
       "       433.42313493, 512.04979227, 478.04811801, 413.29973991,\n",
       "       415.84564074, 511.58583419, 472.89142434, 657.93173622,\n",
       "       560.66409232, 587.74308283, 472.06766427, 390.86267833,\n",
       "       329.06703513, 526.72673086, 452.10238608, 413.87226234,\n",
       "       666.44170815, 487.7692307 , 560.63785511, 449.81047626,\n",
       "       499.94830987, 429.26772106, 508.91176483, 546.20393322,\n",
       "       621.59703226, 413.84178036, 449.02606966, 447.05319043,\n",
       "       595.48648065, 480.87733296, 667.70856487, 594.60958875,\n",
       "       600.04329091, 508.19978205, 359.19507992, 365.88328071,\n",
       "       576.73842525, 515.32519058, 423.65453319, 543.49227764,\n",
       "       577.29292367, 421.05894642, 625.08018462, 434.27528283,\n",
       "       657.73425067, 518.35614426, 481.86280607, 476.52607826,\n",
       "       457.31318609, 456.72099249, 403.31557562, 599.36709348])"
      ]
     },
     "execution_count": 13,
     "metadata": {},
     "output_type": "execute_result"
    }
   ],
   "source": [
    "y"
   ]
  },
  {
   "cell_type": "code",
   "execution_count": 1,
   "metadata": {},
   "outputs": [
    {
     "ename": "NameError",
     "evalue": "name 'X' is not defined",
     "output_type": "error",
     "traceback": [
      "\u001b[0;31m---------------------------------------------------------------------------\u001b[0m",
      "\u001b[0;31mNameError\u001b[0m                                 Traceback (most recent call last)",
      "\u001b[0;32m/var/folders/bn/16fd_w1j46gdt1f0q0bp3x580000gn/T/ipykernel_6889/1545017190.py\u001b[0m in \u001b[0;36m<module>\u001b[0;34m\u001b[0m\n\u001b[0;32m----> 1\u001b[0;31m \u001b[0mX_train\u001b[0m\u001b[0;34m,\u001b[0m \u001b[0mX_test\u001b[0m\u001b[0;34m,\u001b[0m \u001b[0my_train\u001b[0m\u001b[0;34m,\u001b[0m \u001b[0my_test\u001b[0m \u001b[0;34m=\u001b[0m \u001b[0mtrain_test_split\u001b[0m\u001b[0;34m(\u001b[0m\u001b[0mX\u001b[0m\u001b[0;34m,\u001b[0m \u001b[0my\u001b[0m\u001b[0;34m,\u001b[0m \u001b[0mtest_size\u001b[0m \u001b[0;34m=\u001b[0m \u001b[0;36m0.3\u001b[0m\u001b[0;34m,\u001b[0m \u001b[0mrandom_state\u001b[0m \u001b[0;34m=\u001b[0m \u001b[0;36m42\u001b[0m\u001b[0;34m)\u001b[0m\u001b[0;34m\u001b[0m\u001b[0;34m\u001b[0m\u001b[0m\n\u001b[0m",
      "\u001b[0;31mNameError\u001b[0m: name 'X' is not defined"
     ]
    }
   ],
   "source": [
    "X_train, X_test, y_train, y_test = train_test_split(X, y, test_size = 0.3, random_state = 42)"
   ]
  },
  {
   "cell_type": "code",
   "execution_count": 15,
   "metadata": {},
   "outputs": [
    {
     "data": {
      "text/plain": [
       "(700, 2)"
      ]
     },
     "execution_count": 15,
     "metadata": {},
     "output_type": "execute_result"
    }
   ],
   "source": [
    "X_train.shape"
   ]
  },
  {
   "cell_type": "code",
   "execution_count": 16,
   "metadata": {},
   "outputs": [
    {
     "data": {
      "text/plain": [
       "(300, 2)"
      ]
     },
     "execution_count": 16,
     "metadata": {},
     "output_type": "execute_result"
    }
   ],
   "source": [
    "X_test.shape"
   ]
  },
  {
   "cell_type": "markdown",
   "metadata": {},
   "source": [
    "DL' de genellikle MinMaxScaler kullanilir. DL' de islem yuku cok fazla ve MinMaxScaler, degerleri 0 ile 1 arasina sikistirir :"
   ]
  },
  {
   "cell_type": "code",
   "execution_count": 17,
   "metadata": {},
   "outputs": [],
   "source": [
    "from sklearn.preprocessing import MinMaxScaler"
   ]
  },
  {
   "cell_type": "markdown",
   "metadata": {},
   "source": [
    "__MinMaxScaler --->__ Ilgili sutundaki min ve max degerlerini alir, scale edilmek istenen degerden min degeri cikarir; bunu da max-min farkina boler. Boylece tum degerler 0 ile 1 arasina gelmis olur."
   ]
  },
  {
   "cell_type": "code",
   "execution_count": 18,
   "metadata": {},
   "outputs": [
    {
     "name": "stdout",
     "output_type": "stream",
     "text": [
      "Help on class MinMaxScaler in module sklearn.preprocessing._data:\n",
      "\n",
      "class MinMaxScaler(sklearn.base._OneToOneFeatureMixin, sklearn.base.TransformerMixin, sklearn.base.BaseEstimator)\n",
      " |  MinMaxScaler(feature_range=(0, 1), *, copy=True, clip=False)\n",
      " |  \n",
      " |  Transform features by scaling each feature to a given range.\n",
      " |  \n",
      " |  This estimator scales and translates each feature individually such\n",
      " |  that it is in the given range on the training set, e.g. between\n",
      " |  zero and one.\n",
      " |  \n",
      " |  The transformation is given by::\n",
      " |  \n",
      " |      X_std = (X - X.min(axis=0)) / (X.max(axis=0) - X.min(axis=0))\n",
      " |      X_scaled = X_std * (max - min) + min\n",
      " |  \n",
      " |  where min, max = feature_range.\n",
      " |  \n",
      " |  This transformation is often used as an alternative to zero mean,\n",
      " |  unit variance scaling.\n",
      " |  \n",
      " |  Read more in the :ref:`User Guide <preprocessing_scaler>`.\n",
      " |  \n",
      " |  Parameters\n",
      " |  ----------\n",
      " |  feature_range : tuple (min, max), default=(0, 1)\n",
      " |      Desired range of transformed data.\n",
      " |  \n",
      " |  copy : bool, default=True\n",
      " |      Set to False to perform inplace row normalization and avoid a\n",
      " |      copy (if the input is already a numpy array).\n",
      " |  \n",
      " |  clip : bool, default=False\n",
      " |      Set to True to clip transformed values of held-out data to\n",
      " |      provided `feature range`.\n",
      " |  \n",
      " |      .. versionadded:: 0.24\n",
      " |  \n",
      " |  Attributes\n",
      " |  ----------\n",
      " |  min_ : ndarray of shape (n_features,)\n",
      " |      Per feature adjustment for minimum. Equivalent to\n",
      " |      ``min - X.min(axis=0) * self.scale_``\n",
      " |  \n",
      " |  scale_ : ndarray of shape (n_features,)\n",
      " |      Per feature relative scaling of the data. Equivalent to\n",
      " |      ``(max - min) / (X.max(axis=0) - X.min(axis=0))``\n",
      " |  \n",
      " |      .. versionadded:: 0.17\n",
      " |         *scale_* attribute.\n",
      " |  \n",
      " |  data_min_ : ndarray of shape (n_features,)\n",
      " |      Per feature minimum seen in the data\n",
      " |  \n",
      " |      .. versionadded:: 0.17\n",
      " |         *data_min_*\n",
      " |  \n",
      " |  data_max_ : ndarray of shape (n_features,)\n",
      " |      Per feature maximum seen in the data\n",
      " |  \n",
      " |      .. versionadded:: 0.17\n",
      " |         *data_max_*\n",
      " |  \n",
      " |  data_range_ : ndarray of shape (n_features,)\n",
      " |      Per feature range ``(data_max_ - data_min_)`` seen in the data\n",
      " |  \n",
      " |      .. versionadded:: 0.17\n",
      " |         *data_range_*\n",
      " |  \n",
      " |  n_features_in_ : int\n",
      " |      Number of features seen during :term:`fit`.\n",
      " |  \n",
      " |      .. versionadded:: 0.24\n",
      " |  \n",
      " |  n_samples_seen_ : int\n",
      " |      The number of samples processed by the estimator.\n",
      " |      It will be reset on new calls to fit, but increments across\n",
      " |      ``partial_fit`` calls.\n",
      " |  \n",
      " |  feature_names_in_ : ndarray of shape (`n_features_in_`,)\n",
      " |      Names of features seen during :term:`fit`. Defined only when `X`\n",
      " |      has feature names that are all strings.\n",
      " |  \n",
      " |      .. versionadded:: 1.0\n",
      " |  \n",
      " |  See Also\n",
      " |  --------\n",
      " |  minmax_scale : Equivalent function without the estimator API.\n",
      " |  \n",
      " |  Notes\n",
      " |  -----\n",
      " |  NaNs are treated as missing values: disregarded in fit, and maintained in\n",
      " |  transform.\n",
      " |  \n",
      " |  For a comparison of the different scalers, transformers, and normalizers,\n",
      " |  see :ref:`examples/preprocessing/plot_all_scaling.py\n",
      " |  <sphx_glr_auto_examples_preprocessing_plot_all_scaling.py>`.\n",
      " |  \n",
      " |  Examples\n",
      " |  --------\n",
      " |  >>> from sklearn.preprocessing import MinMaxScaler\n",
      " |  >>> data = [[-1, 2], [-0.5, 6], [0, 10], [1, 18]]\n",
      " |  >>> scaler = MinMaxScaler()\n",
      " |  >>> print(scaler.fit(data))\n",
      " |  MinMaxScaler()\n",
      " |  >>> print(scaler.data_max_)\n",
      " |  [ 1. 18.]\n",
      " |  >>> print(scaler.transform(data))\n",
      " |  [[0.   0.  ]\n",
      " |   [0.25 0.25]\n",
      " |   [0.5  0.5 ]\n",
      " |   [1.   1.  ]]\n",
      " |  >>> print(scaler.transform([[2, 2]]))\n",
      " |  [[1.5 0. ]]\n",
      " |  \n",
      " |  Method resolution order:\n",
      " |      MinMaxScaler\n",
      " |      sklearn.base._OneToOneFeatureMixin\n",
      " |      sklearn.base.TransformerMixin\n",
      " |      sklearn.base.BaseEstimator\n",
      " |      builtins.object\n",
      " |  \n",
      " |  Methods defined here:\n",
      " |  \n",
      " |  __init__(self, feature_range=(0, 1), *, copy=True, clip=False)\n",
      " |      Initialize self.  See help(type(self)) for accurate signature.\n",
      " |  \n",
      " |  fit(self, X, y=None)\n",
      " |      Compute the minimum and maximum to be used for later scaling.\n",
      " |      \n",
      " |      Parameters\n",
      " |      ----------\n",
      " |      X : array-like of shape (n_samples, n_features)\n",
      " |          The data used to compute the per-feature minimum and maximum\n",
      " |          used for later scaling along the features axis.\n",
      " |      \n",
      " |      y : None\n",
      " |          Ignored.\n",
      " |      \n",
      " |      Returns\n",
      " |      -------\n",
      " |      self : object\n",
      " |          Fitted scaler.\n",
      " |  \n",
      " |  inverse_transform(self, X)\n",
      " |      Undo the scaling of X according to feature_range.\n",
      " |      \n",
      " |      Parameters\n",
      " |      ----------\n",
      " |      X : array-like of shape (n_samples, n_features)\n",
      " |          Input data that will be transformed. It cannot be sparse.\n",
      " |      \n",
      " |      Returns\n",
      " |      -------\n",
      " |      Xt : ndarray of shape (n_samples, n_features)\n",
      " |          Transformed data.\n",
      " |  \n",
      " |  partial_fit(self, X, y=None)\n",
      " |      Online computation of min and max on X for later scaling.\n",
      " |      \n",
      " |      All of X is processed as a single batch. This is intended for cases\n",
      " |      when :meth:`fit` is not feasible due to very large number of\n",
      " |      `n_samples` or because X is read from a continuous stream.\n",
      " |      \n",
      " |      Parameters\n",
      " |      ----------\n",
      " |      X : array-like of shape (n_samples, n_features)\n",
      " |          The data used to compute the mean and standard deviation\n",
      " |          used for later scaling along the features axis.\n",
      " |      \n",
      " |      y : None\n",
      " |          Ignored.\n",
      " |      \n",
      " |      Returns\n",
      " |      -------\n",
      " |      self : object\n",
      " |          Fitted scaler.\n",
      " |  \n",
      " |  transform(self, X)\n",
      " |      Scale features of X according to feature_range.\n",
      " |      \n",
      " |      Parameters\n",
      " |      ----------\n",
      " |      X : array-like of shape (n_samples, n_features)\n",
      " |          Input data that will be transformed.\n",
      " |      \n",
      " |      Returns\n",
      " |      -------\n",
      " |      Xt : ndarray of shape (n_samples, n_features)\n",
      " |          Transformed data.\n",
      " |  \n",
      " |  ----------------------------------------------------------------------\n",
      " |  Methods inherited from sklearn.base._OneToOneFeatureMixin:\n",
      " |  \n",
      " |  get_feature_names_out(self, input_features=None)\n",
      " |      Get output feature names for transformation.\n",
      " |      \n",
      " |      Parameters\n",
      " |      ----------\n",
      " |      input_features : array-like of str or None, default=None\n",
      " |          Input features.\n",
      " |      \n",
      " |          - If `input_features` is `None`, then `feature_names_in_` is\n",
      " |            used as feature names in. If `feature_names_in_` is not defined,\n",
      " |            then names are generated: `[x0, x1, ..., x(n_features_in_)]`.\n",
      " |          - If `input_features` is an array-like, then `input_features` must\n",
      " |            match `feature_names_in_` if `feature_names_in_` is defined.\n",
      " |      \n",
      " |      Returns\n",
      " |      -------\n",
      " |      feature_names_out : ndarray of str objects\n",
      " |          Same as input features.\n",
      " |  \n",
      " |  ----------------------------------------------------------------------\n",
      " |  Data descriptors inherited from sklearn.base._OneToOneFeatureMixin:\n",
      " |  \n",
      " |  __dict__\n",
      " |      dictionary for instance variables (if defined)\n",
      " |  \n",
      " |  __weakref__\n",
      " |      list of weak references to the object (if defined)\n",
      " |  \n",
      " |  ----------------------------------------------------------------------\n",
      " |  Methods inherited from sklearn.base.TransformerMixin:\n",
      " |  \n",
      " |  fit_transform(self, X, y=None, **fit_params)\n",
      " |      Fit to data, then transform it.\n",
      " |      \n",
      " |      Fits transformer to `X` and `y` with optional parameters `fit_params`\n",
      " |      and returns a transformed version of `X`.\n",
      " |      \n",
      " |      Parameters\n",
      " |      ----------\n",
      " |      X : array-like of shape (n_samples, n_features)\n",
      " |          Input samples.\n",
      " |      \n",
      " |      y :  array-like of shape (n_samples,) or (n_samples, n_outputs),                 default=None\n",
      " |          Target values (None for unsupervised transformations).\n",
      " |      \n",
      " |      **fit_params : dict\n",
      " |          Additional fit parameters.\n",
      " |      \n",
      " |      Returns\n",
      " |      -------\n",
      " |      X_new : ndarray array of shape (n_samples, n_features_new)\n",
      " |          Transformed array.\n",
      " |  \n",
      " |  ----------------------------------------------------------------------\n",
      " |  Methods inherited from sklearn.base.BaseEstimator:\n",
      " |  \n",
      " |  __getstate__(self)\n",
      " |  \n",
      " |  __repr__(self, N_CHAR_MAX=700)\n",
      " |      Return repr(self).\n",
      " |  \n",
      " |  __setstate__(self, state)\n",
      " |  \n",
      " |  get_params(self, deep=True)\n",
      " |      Get parameters for this estimator.\n",
      " |      \n",
      " |      Parameters\n",
      " |      ----------\n",
      " |      deep : bool, default=True\n",
      " |          If True, will return the parameters for this estimator and\n",
      " |          contained subobjects that are estimators.\n",
      " |      \n",
      " |      Returns\n",
      " |      -------\n",
      " |      params : dict\n",
      " |          Parameter names mapped to their values.\n",
      " |  \n",
      " |  set_params(self, **params)\n",
      " |      Set the parameters of this estimator.\n",
      " |      \n",
      " |      The method works on simple estimators as well as on nested objects\n",
      " |      (such as :class:`~sklearn.pipeline.Pipeline`). The latter have\n",
      " |      parameters of the form ``<component>__<parameter>`` so that it's\n",
      " |      possible to update each component of a nested object.\n",
      " |      \n",
      " |      Parameters\n",
      " |      ----------\n",
      " |      **params : dict\n",
      " |          Estimator parameters.\n",
      " |      \n",
      " |      Returns\n",
      " |      -------\n",
      " |      self : estimator instance\n",
      " |          Estimator instance.\n",
      "\n"
     ]
    }
   ],
   "source": [
    "help(MinMaxScaler)"
   ]
  },
  {
   "cell_type": "code",
   "execution_count": 19,
   "metadata": {},
   "outputs": [],
   "source": [
    "scaler = MinMaxScaler()"
   ]
  },
  {
   "cell_type": "code",
   "execution_count": 20,
   "metadata": {},
   "outputs": [],
   "source": [
    "scaler.fit(X_train)\n",
    "X_train = scaler.transform(X_train)    # Train datasi icin hem fit hem transform\n",
    "X_test = scaler.transform(X_test)      #Test datasi icin sadece transform"
   ]
  },
  {
   "cell_type": "code",
   "execution_count": 21,
   "metadata": {},
   "outputs": [
    {
     "data": {
      "text/plain": [
       "1.0"
      ]
     },
     "execution_count": 21,
     "metadata": {},
     "output_type": "execute_result"
    }
   ],
   "source": [
    "X_train.max()"
   ]
  },
  {
   "cell_type": "code",
   "execution_count": 22,
   "metadata": {},
   "outputs": [
    {
     "data": {
      "text/plain": [
       "0.0"
      ]
     },
     "execution_count": 22,
     "metadata": {},
     "output_type": "execute_result"
    }
   ],
   "source": [
    "X_train.min()"
   ]
  },
  {
   "cell_type": "markdown",
   "metadata": {},
   "source": [
    "Test datasindaki degerler 0 ile 1 arasina gelmedi cunku scale islemini sadece traind datalarina uyguladik :"
   ]
  },
  {
   "cell_type": "code",
   "execution_count": 23,
   "metadata": {},
   "outputs": [
    {
     "data": {
      "text/plain": [
       "1.0186515935232023"
      ]
     },
     "execution_count": 23,
     "metadata": {},
     "output_type": "execute_result"
    }
   ],
   "source": [
    "X_test.max()"
   ]
  },
  {
   "cell_type": "code",
   "execution_count": 24,
   "metadata": {},
   "outputs": [
    {
     "data": {
      "text/plain": [
       "-0.014108392024525074"
      ]
     },
     "execution_count": 24,
     "metadata": {},
     "output_type": "execute_result"
    }
   ],
   "source": [
    "X_test.min()"
   ]
  },
  {
   "cell_type": "markdown",
   "metadata": {},
   "source": [
    "## Modelling"
   ]
  },
  {
   "cell_type": "code",
   "execution_count": null,
   "metadata": {},
   "outputs": [],
   "source": [
    "import tensorflow as tf"
   ]
  },
  {
   "cell_type": "code",
   "execution_count": null,
   "metadata": {},
   "outputs": [],
   "source": [
    "from tensorflow.keras.models import Sequential\n",
    "from tensorflow.keras.layers import Dense, Activation"
   ]
  },
  {
   "cell_type": "markdown",
   "metadata": {},
   "source": [
    "__Sequential -->__ Arka arkaya katmanli bir yapi olusturmamizi saglayan alt yapi."
   ]
  },
  {
   "cell_type": "code",
   "execution_count": null,
   "metadata": {},
   "outputs": [],
   "source": [
    "#help(Sequential)"
   ]
  },
  {
   "cell_type": "markdown",
   "metadata": {},
   "source": [
    "__Dense -->__ Bir layer(katman) cinsidir. Dense, __fully connected__ bir ozellige sahip bir katman cesidi, en cok bunu kullanacagiz. CNN' de fully connected olmayan layer' lar kullanacagiz."
   ]
  },
  {
   "cell_type": "code",
   "execution_count": null,
   "metadata": {},
   "outputs": [],
   "source": [
    "help(Dense)"
   ]
  },
  {
   "cell_type": "markdown",
   "metadata": {},
   "source": [
    "Model olusturmak icin 2 yontem gorecegiz :"
   ]
  },
  {
   "cell_type": "markdown",
   "metadata": {},
   "source": [
    "__1. Yontem :__ Modeli Sequential' a atadik. Icerisine liste icinde kac layer olusturmak istiyorsak icine atadik. Her bir dense bir layer' i temsil eder. Son satir output layer' dir. Input layer belirtilmemis, belirtmeye de gerek yok. Model, kac tane input yani feature oldugunu biliyor :"
   ]
  },
  {
   "cell_type": "code",
   "execution_count": 1,
   "metadata": {},
   "outputs": [
    {
     "ename": "NameError",
     "evalue": "name 'Sequential' is not defined",
     "output_type": "error",
     "traceback": [
      "\u001b[0;31m---------------------------------------------------------------------------\u001b[0m",
      "\u001b[0;31mNameError\u001b[0m                                 Traceback (most recent call last)",
      "\u001b[0;32m/var/folders/bn/16fd_w1j46gdt1f0q0bp3x580000gn/T/ipykernel_5725/1674604630.py\u001b[0m in \u001b[0;36m<module>\u001b[0;34m\u001b[0m\n\u001b[1;32m      1\u001b[0m \u001b[0;31m# First way to create model\u001b[0m\u001b[0;34m\u001b[0m\u001b[0;34m\u001b[0m\u001b[0;34m\u001b[0m\u001b[0m\n\u001b[1;32m      2\u001b[0m \u001b[0;34m\u001b[0m\u001b[0m\n\u001b[0;32m----> 3\u001b[0;31m model = Sequential([Dense(units = 4, activation = \"relu\"),\n\u001b[0m\u001b[1;32m      4\u001b[0m                     \u001b[0mDense\u001b[0m\u001b[0;34m(\u001b[0m\u001b[0munits\u001b[0m \u001b[0;34m=\u001b[0m \u001b[0;36m4\u001b[0m\u001b[0;34m,\u001b[0m \u001b[0mactivation\u001b[0m \u001b[0;34m=\u001b[0m \u001b[0;34m\"relu\"\u001b[0m\u001b[0;34m)\u001b[0m\u001b[0;34m,\u001b[0m\u001b[0;34m\u001b[0m\u001b[0;34m\u001b[0m\u001b[0m\n\u001b[1;32m      5\u001b[0m                     \u001b[0mDense\u001b[0m\u001b[0;34m(\u001b[0m\u001b[0munits\u001b[0m \u001b[0;34m=\u001b[0m \u001b[0;36m4\u001b[0m\u001b[0;34m,\u001b[0m \u001b[0mactivation\u001b[0m \u001b[0;34m=\u001b[0m \u001b[0;34m\"relu\"\u001b[0m\u001b[0;34m)\u001b[0m\u001b[0;34m,\u001b[0m\u001b[0;34m\u001b[0m\u001b[0;34m\u001b[0m\u001b[0m\n",
      "\u001b[0;31mNameError\u001b[0m: name 'Sequential' is not defined"
     ]
    }
   ],
   "source": [
    "# First way to create model\n",
    "\n",
    "model = Sequential([Dense(units = 4, activation = \"relu\"),\n",
    "                    Dense(units = 4, activation = \"relu\"),\n",
    "                    Dense(units = 4, activation = \"relu\"),\n",
    "                    Dense(units = 1)])"
   ]
  },
  {
   "cell_type": "markdown",
   "metadata": {},
   "source": [
    "__2. Yontem :__ Genelde tercih edilen yontem budur. Yine Sequential olarak modelimizi tanimlayip bir object olusturduk. Object' in uzerine layer' lari add fonksiyonu ile ekledik :"
   ]
  },
  {
   "cell_type": "code",
   "execution_count": null,
   "metadata": {},
   "outputs": [],
   "source": [
    "# Second way to create model (recommended)\n",
    "\n",
    "model = Sequential()\n",
    "model.add(Dense(units = 4, activation = \"relu\"))     # input_dim = X_train.shape[1] --> Input layer eklenebilirdi.\n",
    "model.add(Dense(units = 4, activation = \"relu\"))\n",
    "model.add(Dense(units = 4, activation = \"relu\"))\n",
    "model.add(Dense(units = 1))"
   ]
  },
  {
   "cell_type": "markdown",
   "metadata": {},
   "source": [
    "__unit :__ Bir katmanda kac nöron oldugunu soyler. Genelde 2 ve 2' nin katlari seklinde nöron sayilari verilir. "
   ]
  },
  {
   "cell_type": "markdown",
   "metadata": {},
   "source": [
    "__activation :__ Aktivasyon fonksiyonu"
   ]
  },
  {
   "cell_type": "markdown",
   "metadata": {},
   "source": [
    "Modelimizde 2 tane feature var. birinci hidden layer' da 4 nöron, ikinci hidden layer' da 4 nöron, ucuncu hidden layer' da 4 tane nöron var. Son olarak da 1 tane output var. "
   ]
  },
  {
   "cell_type": "markdown",
   "metadata": {},
   "source": [
    "Yukarida structure' i olusturduk. Bu structure' in icinde hangi yontemleri kullanarak calisacak, compile ile bunu belirliyoruz :"
   ]
  },
  {
   "cell_type": "markdown",
   "metadata": {},
   "source": [
    "__optimizer :__ Gradient Descent uygulayarak min cost' u bulmaya calisir ve sonra agirliklari sondan basa dogru gunceller."
   ]
  },
  {
   "cell_type": "markdown",
   "metadata": {},
   "source": [
    "__loss :__ Hangi cost function' i kullanacagimizi buraya yazariz. (Regression problemlerinde genelde mse kullanilir, birden fazla skor tanimlanabilir. Mesela classification problemlerinde recall, accuracy.. skorlari tanimlanabilir.)"
   ]
  },
  {
   "cell_type": "code",
   "execution_count": null,
   "metadata": {},
   "outputs": [],
   "source": [
    "model.compile(optimizer = \"rmsprop\", loss = \"mse\")"
   ]
  },
  {
   "cell_type": "markdown",
   "metadata": {},
   "source": [
    "### Choosing an optimizer and loss\n",
    "\n",
    "Keep in mind what kind of problem you are trying to solve:\n",
    "\n",
    "    # For a multi-class classification problem :\n",
    "    \n",
    "    model.compile(optimizer='rmsprop',\n",
    "                  loss='categorical_crossentropy',\n",
    "                  metrics=['accuracy'])\n",
    "-----------------------------------------------------------------------------\n",
    "    # For a binary classification problem :\n",
    "    \n",
    "    model.compile(optimizer='rmsprop',\n",
    "                  loss='binary_crossentropy',\n",
    "                  metrics=['accuracy'])\n",
    "------------------------------------------------------------------------------\n",
    "    # For a mean squared error regression problem :\n",
    "    \n",
    "    model.compile(optimizer='rmsprop',\n",
    "                  loss='mse')"
   ]
  },
  {
   "cell_type": "markdown",
   "metadata": {},
   "source": [
    "Yukarida yapiyi kurduk, compile ile nasil calismasi gerektigini soyledik, egitim asamasina gecebiliriz :"
   ]
  },
  {
   "cell_type": "markdown",
   "metadata": {},
   "source": [
    "__batch_size :__ Kac observation' da bir backpropagation yapilacak?"
   ]
  },
  {
   "cell_type": "markdown",
   "metadata": {},
   "source": [
    "__epoch :__ Datanin tamami kac kere egitime girsin? (Her yeni egitimde data karılır.)"
   ]
  },
  {
   "cell_type": "code",
   "execution_count": null,
   "metadata": {},
   "outputs": [],
   "source": [
    "model.fit(x = X_train, y = y_train, batch_size = 32, epochs = 250)"
   ]
  },
  {
   "cell_type": "markdown",
   "metadata": {},
   "source": [
    "__Ciktidaki 22 sayisi :__ Train datasinda 700 gozlem var. 700 / 32 = 22 (Aslinda sonuc 21.875 cikiyor fakat egitim yarim kalmasin diye son  kalan verileri batch' e atarak sayiyi 22' ye tamamliyor.). Boylece her epoch' da 22 kere backpropagation yapti. Her iterasyonda da 32 data kullandi."
   ]
  },
  {
   "cell_type": "markdown",
   "metadata": {},
   "source": [
    "__Ciktidaki loss :__ 22 tane datadan 22.' sinin loss degeri, yani epoch' un en sonuncu iterasyonu (Ortalama degil!)"
   ]
  },
  {
   "cell_type": "markdown",
   "metadata": {},
   "source": [
    "__loss:__ Gozlemdeki hata degeri. (Burda mse kullandigimiz icin hata degerlerinin karesi)"
   ]
  },
  {
   "cell_type": "markdown",
   "metadata": {},
   "source": [
    "ilk satir egitime girer, bir hata degeri bulunur; ikinci satir girer bir hata degeri bulunur; en son 32. satir girer bir hata degeri bulunur (batch_size=32) ve bu hata degerlerinin hepsinin ortalamasi alinir. Bu ortalama degere gore bir turev degeri alinir, gradient descent calisir. Buna gore parametreleri gunceller. Boylece 1/22' nci islemi yapmis olur. Yenilenmis parametreler ile 32. dataya, 33. dataya 64. dataya kadar ayni islemleri tekrar eder. 64. 'de tekrar hata degerlerinin ortalamasini alir, turev degerlerini bulur.. Bu sekilde datanin sonuna kadar bu islemleri tekrar eder."
   ]
  },
  {
   "cell_type": "markdown",
   "metadata": {},
   "source": [
    "Ciktidaki loss degerlerinin (hata) baslangicta cok fazla oldugunu, egitim devam ettikce asagiya dogru azaldigini goruyoruz. Baslangictaki buyuk hatanin sebebi; basta atanan rastgele agirlik degerleridir. "
   ]
  },
  {
   "cell_type": "markdown",
   "metadata": {},
   "source": [
    "-----------------------------------------------------------------------------------------------------------------------------------"
   ]
  },
  {
   "cell_type": "markdown",
   "metadata": {},
   "source": [
    "__model.summary :__ Her katmanda kac tane parametre oldugunu verir. Burada toplamda 57 tane parametre var. Her iterasyonda bu 57 parametre guncellenir. "
   ]
  },
  {
   "cell_type": "markdown",
   "metadata": {},
   "source": [
    "Ilk katmanda 12 tane parametre oldugunu goruyoruz. Bu sayi su sekilde hesaplaniyor : Baslangicta 2 feature vardi. Bu feature' lar ilk katmandaki 4 nöronun her birine giderse 4*2=8 tane agirlik degeri olur, her nöronda birer tane de bias degeri var, bunu da eklersek 8+4=12 degeri bulunur."
   ]
  },
  {
   "cell_type": "markdown",
   "metadata": {},
   "source": [
    "Ikinci katmandaki hesap : Onceki katmanda 4 nöron var, bu nöronlar sonraki 4 nöronun her birine giderse 4*4=16 tane agirlik degeri hesaplanir, 4 tane de bias degerini eklersek 16+4=20 tane parametre bulunur."
   ]
  },
  {
   "cell_type": "code",
   "execution_count": null,
   "metadata": {},
   "outputs": [],
   "source": [
    "model.summary()"
   ]
  },
  {
   "cell_type": "markdown",
   "metadata": {},
   "source": [
    "__model.weights :__ Yukarida gordugumuz 57 tane parametrenin agirlik ve bias degerlerinin neler oldugunu her layer icin ayri ayri goruyoruz. (Mesela ilk layer icin 8 tane agirlik degeri, 4 tane bias degerinin kac olduklari bilgisi gibi.)"
   ]
  },
  {
   "cell_type": "code",
   "execution_count": null,
   "metadata": {},
   "outputs": [],
   "source": [
    "model.weights"
   ]
  },
  {
   "cell_type": "markdown",
   "metadata": {},
   "source": [
    "__model.history.history :__ Model egitilirken aldigimiz loss degerleri ne ise aynisini bu kod ile goruntuleyebiliyoruz. 250 tane epoch oldugu icin 250 tane loss degeri elde ettik :"
   ]
  },
  {
   "cell_type": "code",
   "execution_count": null,
   "metadata": {},
   "outputs": [],
   "source": [
    "model.history.history"
   ]
  },
  {
   "cell_type": "markdown",
   "metadata": {},
   "source": [
    "Bu loss degerlerini gorsellestirerek overfit veya underfit durumu var mi diye kontrol etmek icin gorsellestirme yapacagiz. Bu yuzden oncelikle DataFrame' e cevirdik :"
   ]
  },
  {
   "cell_type": "code",
   "execution_count": null,
   "metadata": {},
   "outputs": [],
   "source": [
    "pd.DataFrame(model.history.history)"
   ]
  },
  {
   "cell_type": "markdown",
   "metadata": {},
   "source": [
    "Asagida modelimizin nasil bir ogrenme egrisi oldugunu goruyoruz. Modelimiz yaklasik olarak 80' de stabil bir duruma gelmis. Tam olarak hangi deger oldugunu gormek icin bir sonraki grafikte x ve y' ye limitler koyduk. Ayrintili grafikte degerimizin istedigimiz noktaya 200 gibi bir degerde ulastigini goruyoruz. (Baslangictaki agirliklar random olarak atandigi icin 200 sayisi model her calistiginda degisebilir!) Demek ki epoch degerini 250 yerine 200 olarak girerek zamandan tasarruf saglayabiliriz :"
   ]
  },
  {
   "cell_type": "code",
   "execution_count": null,
   "metadata": {},
   "outputs": [],
   "source": [
    "loss_df = pd.DataFrame(model.history.history)\n",
    "loss_df.plot();"
   ]
  },
  {
   "cell_type": "code",
   "execution_count": null,
   "metadata": {},
   "outputs": [],
   "source": [
    "fig, ax= plt.subplots()\n",
    "ax.plot(loss_df)\n",
    "ax.set_xlabel(\"epoch\")\n",
    "ax.set_ylabel(\"loss\")\n",
    "ax.set_title(\"loss - epoch graph\")\n",
    "ax.set_xlim([0, 250]) # focusing on the given x values\n",
    "ax.set_ylim([0, 3000]) # focusing on the given y values"
   ]
  },
  {
   "cell_type": "markdown",
   "metadata": {},
   "source": [
    "## Model Performance"
   ]
  },
  {
   "cell_type": "markdown",
   "metadata": {},
   "source": [
    "Bir regression problemi ile ugrastigimiz icin ayni ML' deki gibi error metriklerimizi import ettik :"
   ]
  },
  {
   "cell_type": "markdown",
   "metadata": {},
   "source": [
    "__explained_variance_score ;__ r2 skoru ile ayni, aralarinda cok ufak farklar var. "
   ]
  },
  {
   "cell_type": "code",
   "execution_count": null,
   "metadata": {},
   "outputs": [],
   "source": [
    "from sklearn.metrics import mean_squared_error, mean_absolute_error, r2_score, explained_variance_score"
   ]
  },
  {
   "cell_type": "markdown",
   "metadata": {},
   "source": [
    "__model.evaluate__ ciktisinda aldigimiz deger, yukarida compile kisminda tanimladigimiz loss='mse' skorudur. Oraya hangi skor tanimlandiysa burda o sonucu aliriz. "
   ]
  },
  {
   "cell_type": "code",
   "execution_count": null,
   "metadata": {},
   "outputs": [],
   "source": [
    "model.evaluate(X_train, y_train, verbose=0)"
   ]
  },
  {
   "cell_type": "markdown",
   "metadata": {},
   "source": [
    "model.evaluate' ten aldigimiz train ve test set skorlari birbirleri ile tutarli cikti. "
   ]
  },
  {
   "cell_type": "markdown",
   "metadata": {},
   "source": [
    "__!!!__ model.evaluate daha prediction yaptirmadan otomatik olarak arka planda prediction yaptirir.  __!!!__"
   ]
  },
  {
   "cell_type": "code",
   "execution_count": null,
   "metadata": {},
   "outputs": [],
   "source": [
    "model.evaluate(X_test, y_test, verbose=0)"
   ]
  },
  {
   "cell_type": "code",
   "execution_count": null,
   "metadata": {},
   "outputs": [],
   "source": [
    "y_pred = model.predict(X_test)"
   ]
  },
  {
   "cell_type": "markdown",
   "metadata": {},
   "source": [
    "Test setine prediction yaptirdik ve skorumuzu aldik; skorumuz gayet iyi."
   ]
  },
  {
   "cell_type": "code",
   "execution_count": null,
   "metadata": {},
   "outputs": [],
   "source": [
    "explained_variance_score(y_test, y_pred)"
   ]
  },
  {
   "cell_type": "markdown",
   "metadata": {},
   "source": [
    "Actual value' lar ile prediction' larin 10 tanesini DataFrame' de karsilastirmak istedik. Bunun icin once bir dict olusturup bunu DataFrame' e cevirdik. y_pred' de reshape yapmamizin sebebi; y_pred bir listeydi bunun formatini reshape ile tek bir sütun haline getirdik :"
   ]
  },
  {
   "cell_type": "code",
   "execution_count": null,
   "metadata": {},
   "outputs": [],
   "source": [
    "my_dict = {\"Actual\" : y_test, \"Pred\" : y_pred.reshape(-1,)}\n",
    "compare = pd.DataFrame(my_dict)\n",
    "compare.sample(10)"
   ]
  },
  {
   "cell_type": "markdown",
   "metadata": {},
   "source": [
    "Actual ve predict degerleri birbirine cok yakin cikti, modelimiz cok iyi tahminler yapmis."
   ]
  },
  {
   "cell_type": "markdown",
   "metadata": {},
   "source": [
    "Actual ve predict degerlerine bir de gorsellestirerek baktik :"
   ]
  },
  {
   "cell_type": "code",
   "execution_count": null,
   "metadata": {},
   "outputs": [],
   "source": [
    "sns.scatterplot(x = 'Actual', y = 'Pred', data = compare)"
   ]
  },
  {
   "cell_type": "markdown",
   "metadata": {},
   "source": [
    "eval_metric ile skorlarimiza baktigimizda r2_score ile yukarida aldigimiz explained_variance_score degerlerinin birbirine cok yakin oldugunu goruyoruz. Ikisinin hesaplanmasinda cok kucuk farklar oldugunu belirtmistik. Birbirlerinin yerlerine kullanilabilirler :"
   ]
  },
  {
   "cell_type": "code",
   "execution_count": null,
   "metadata": {},
   "outputs": [],
   "source": [
    "def eval_metric(actual, pred):\n",
    "    mae = mean_absolute_error(actual, pred)\n",
    "    mse = mean_squared_error(actual, pred)\n",
    "    rmse = np.sqrt(mean_squared_error(actual, pred))\n",
    "    score = r2_score(actual, pred)\n",
    "    return print(\"r2_score:\", score, \"\\nmae:\", mae, \"\\nmse:\", mse, \"\\nrmse:\", rmse)"
   ]
  },
  {
   "cell_type": "code",
   "execution_count": null,
   "metadata": {},
   "outputs": [],
   "source": [
    "eval_metric(y_test, y_pred)"
   ]
  },
  {
   "cell_type": "markdown",
   "metadata": {},
   "source": [
    "## Final Model and Model Deployment"
   ]
  },
  {
   "cell_type": "markdown",
   "metadata": {},
   "source": [
    "ML' de yaptigimiz gibi full datamiz ile model egitimimizi yapiyoruz. Once tum X datamizi scale ettik. Pickle ile scale edilmis datamizi baska yerde de kullanabilmek adina dump ettik. Scale edilmis datamizi transform ettik ve sonrasinda yukarida kullandigimiz ozellikleri kullanarak tum datamizi modele soktuk :"
   ]
  },
  {
   "cell_type": "code",
   "execution_count": null,
   "metadata": {},
   "outputs": [],
   "source": [
    "scaler = MinMaxScaler().fit(X)"
   ]
  },
  {
   "cell_type": "code",
   "execution_count": null,
   "metadata": {},
   "outputs": [],
   "source": [
    "import pickle\n",
    "pickle.dump(scaler, open(\"scaler_fake_reg\", 'wb'))"
   ]
  },
  {
   "cell_type": "code",
   "execution_count": null,
   "metadata": {},
   "outputs": [],
   "source": [
    "X_scaled = scaler.transform(X)"
   ]
  },
  {
   "cell_type": "markdown",
   "metadata": {},
   "source": [
    "Model egitimi yaparken cok iyi skorlar almis olmamiza karsin burda kotu skorlar alabiliriz (yuksek ve dusmeyen loss degerleri). Bunun sebeplerin arasinda, ilk agirliklarin random atanmasi olabilir; relu kullandigimiz icin ölü nöronlar olabilir; farkli bir noktadan basladigi icin global min'e ulasamamis olabilir. Bu durumda asagidaki dusuk loss degerleri alana kadar kodu tekrar tekrar calistirmaliyiz. Egitimdekine benzer sonuclar aldiysak modelimizi kaydedebiliriz. Yani Deep Learning' de iyi skorlar elde etmek şans işidir :"
   ]
  },
  {
   "cell_type": "code",
   "execution_count": null,
   "metadata": {},
   "outputs": [],
   "source": [
    "final_model = Sequential()\n",
    "\n",
    "final_model.add(Dense(units = 4, activation = \"relu\"))     # input_dim = 2 or input_dim = X_train.shape[0]\n",
    "final_model.add(Dense(units = 4, activation = \"relu\"))\n",
    "final_model.add(Dense(units = 4, activation = \"relu\"))\n",
    "final_model.add(Dense(1))\n",
    "\n",
    "final_model.compile(optimizer = \"rmsprop\", loss = \"mse\")\n",
    "\n",
    "final_model.fit(x = X_scaled, y = y, batch_size = 32, epochs = 250)"
   ]
  },
  {
   "cell_type": "markdown",
   "metadata": {},
   "source": [
    "H5 is a file format to store structured data, it's not a model by itself. Keras saves models in this format as it can easily store the weights and model configuration in a single file."
   ]
  },
  {
   "cell_type": "code",
   "execution_count": null,
   "metadata": {},
   "outputs": [],
   "source": [
    "final_model.save('model_fake_reg.h5')  # creates a HDF5 file 'my_model.h5'"
   ]
  },
  {
   "cell_type": "markdown",
   "metadata": {},
   "source": [
    "Modelimizi save yontemiyle kaydedebiliriz. ML' den farkli olarak h5 uzantisi ile kaydetmeliyiz. Bu sekilde agirlik ve bias' lar daha az yer kaplayacak sekilde muhafaza edilir."
   ]
  },
  {
   "cell_type": "markdown",
   "metadata": {},
   "source": [
    "## Prediction-1"
   ]
  },
  {
   "cell_type": "code",
   "execution_count": null,
   "metadata": {},
   "outputs": [],
   "source": [
    "from tensorflow.keras.models import load_model"
   ]
  },
  {
   "cell_type": "markdown",
   "metadata": {},
   "source": [
    "Prediction icin load_model' import ettik ve bunun ile kaydettigimiz modelimizi cagirdik ve bir degiskene atadik :"
   ]
  },
  {
   "cell_type": "code",
   "execution_count": null,
   "metadata": {},
   "outputs": [],
   "source": [
    "model_fake_reg = load_model('model_fake_reg.h5')"
   ]
  },
  {
   "cell_type": "markdown",
   "metadata": {},
   "source": [
    "Pickle ile dump ettigimiz scaler' i da cagirdik ve bunu da bir degiskene atadik :"
   ]
  },
  {
   "cell_type": "code",
   "execution_count": null,
   "metadata": {},
   "outputs": [],
   "source": [
    "scaler_fake_reg = pickle.load(open(\"scaler_fake_reg\", \"rb\"))"
   ]
  },
  {
   "cell_type": "markdown",
   "metadata": {},
   "source": [
    "Array olarak sample' larimizi belirledik (Yapimiz array olmali) (2 feature oldugu icin her feature icin bir deger girdik) :"
   ]
  },
  {
   "cell_type": "code",
   "execution_count": null,
   "metadata": {},
   "outputs": [],
   "source": [
    "sample = [[998, 1000]]"
   ]
  },
  {
   "cell_type": "markdown",
   "metadata": {},
   "source": [
    "sample' ı scale ve transform ettik ve sonrasinda prediction'i yaptirdik :"
   ]
  },
  {
   "cell_type": "code",
   "execution_count": null,
   "metadata": {},
   "outputs": [],
   "source": [
    "sample_scaled = scaler_fake_reg.transform(sample)"
   ]
  },
  {
   "cell_type": "code",
   "execution_count": null,
   "metadata": {},
   "outputs": [],
   "source": [
    "model_fake_reg.predict(sample_scaled)"
   ]
  },
  {
   "cell_type": "markdown",
   "metadata": {},
   "source": [
    "## Prediction-2"
   ]
  },
  {
   "cell_type": "markdown",
   "metadata": {},
   "source": [
    "Burdaki gibi birden fazla sample da verebiliriz. Sample' lari scale ettigimizde zaten array olacaklari icin yukaridaki gibi scale etmemize de gerek yok. Asagidaki gibi sadece scale islemi yapip prediction' lari alabiliriz :"
   ]
  },
  {
   "cell_type": "code",
   "execution_count": null,
   "metadata": {},
   "outputs": [],
   "source": [
    "my_dict = {\"Feature1\": [997, 998, 999, 1000, 1001],\n",
    "           \"Feature2\": [1000, 999, 998, 997, 996]}"
   ]
  },
  {
   "cell_type": "code",
   "execution_count": null,
   "metadata": {},
   "outputs": [],
   "source": [
    "sample = pd.DataFrame(my_dict)\n",
    "sample"
   ]
  },
  {
   "cell_type": "code",
   "execution_count": null,
   "metadata": {},
   "outputs": [],
   "source": [
    "sample_scaled = scaler_fake_reg.transform(sample)\n",
    "sample_scaled"
   ]
  },
  {
   "cell_type": "code",
   "execution_count": null,
   "metadata": {},
   "outputs": [],
   "source": [
    "model_fake_reg.predict(sample_scaled)"
   ]
  },
  {
   "cell_type": "markdown",
   "metadata": {},
   "source": [
    "___\n",
    "\n",
    "<p style=\"text-align: center;\"><img src=\"https://docs.google.com/uc?id=1lY0Uj5R04yMY3-ZppPWxqCr5pvBLYPnV\" class=\"img-fluid\" alt=\"CLRSWY\"></p>\n",
    "\n",
    "___"
   ]
  }
 ],
 "metadata": {
  "kernelspec": {
   "display_name": "Python 3.8.8 64-bit ('base': conda)",
   "language": "python",
   "name": "python388jvsc74a57bd05d36b6f9e98b747ce336dd4919ab59cd0a32fda90e419c6b312a74e3f2f1b63c"
  },
  "language_info": {
   "codemirror_mode": {
    "name": "ipython",
    "version": 3
   },
   "file_extension": ".py",
   "mimetype": "text/x-python",
   "name": "python",
   "nbconvert_exporter": "python",
   "pygments_lexer": "ipython3",
   "version": "3.8.8"
  }
 },
 "nbformat": 4,
 "nbformat_minor": 4
}
