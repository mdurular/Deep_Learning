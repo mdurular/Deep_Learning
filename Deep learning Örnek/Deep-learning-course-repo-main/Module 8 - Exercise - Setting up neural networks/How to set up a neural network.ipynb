{
 "cells": [
  {
   "cell_type": "code",
   "execution_count": null,
   "metadata": {},
   "outputs": [],
   "source": [
    "import tensorflow as tf\n",
    "from tensorflow import keras\n",
    "import matplotlib.pyplot as plt"
   ]
  },
  {
   "cell_type": "code",
   "execution_count": null,
   "metadata": {},
   "outputs": [],
   "source": [
    "cifar10 = keras.datasets.cifar10\n",
    "(X_train_full, y_train_full),(X_test,y_test) = cifar10.load_data()"
   ]
  },
  {
   "cell_type": "code",
   "execution_count": null,
   "metadata": {},
   "outputs": [],
   "source": [
    "X_train_full.shape"
   ]
  },
  {
   "cell_type": "code",
   "execution_count": null,
   "metadata": {},
   "outputs": [],
   "source": [
    "X_test.shape"
   ]
  },
  {
   "cell_type": "code",
   "execution_count": null,
   "metadata": {},
   "outputs": [],
   "source": [
    "X_train_full[0]"
   ]
  },
  {
   "cell_type": "code",
   "execution_count": null,
   "metadata": {},
   "outputs": [],
   "source": [
    "fig, axes = plt.subplots(nrows=3, ncols=3, figsize=(10,10))\n",
    "a = 0\n",
    "\n",
    "for i in range(3):\n",
    "    for j in range(3):        \n",
    "        axes[i, j].imshow(X_train_full[a], cmap=plt.get_cmap('gray'))\n",
    "        a = a + 1\n",
    "\n",
    "plt.show()"
   ]
  },
  {
   "cell_type": "code",
   "execution_count": null,
   "metadata": {},
   "outputs": [],
   "source": [
    "class_names = [\"airplane\",\"automobile\",\"bird\",\"cat\",\"deer\",\"dog\",\"frog\",\"horse\",\"ship\",\"truck\"]"
   ]
  },
  {
   "cell_type": "code",
   "execution_count": null,
   "metadata": {},
   "outputs": [],
   "source": [
    "class_names[y_train_full[8][0]]"
   ]
  },
  {
   "cell_type": "code",
   "execution_count": null,
   "metadata": {},
   "outputs": [],
   "source": [
    "plt.imshow(X_train_full[8], cmap=plt.get_cmap('gray'))"
   ]
  },
  {
   "cell_type": "code",
   "execution_count": null,
   "metadata": {},
   "outputs": [],
   "source": [
    "X_valid, X_train = X_train_full[:5000] / 255, X_train_full[5000:]/255\n",
    "y_valid, y_train = y_train_full[:5000], y_train_full[5000:]\n",
    "X_test = X_test/255"
   ]
  },
  {
   "cell_type": "code",
   "execution_count": null,
   "metadata": {},
   "outputs": [],
   "source": [
    "X_train[0]"
   ]
  },
  {
   "cell_type": "code",
   "execution_count": null,
   "metadata": {},
   "outputs": [],
   "source": [
    "# # 1cycle learning rate scheduler\n",
    "# # code from: https://pub.towardsai.net/1cycle-learning-rate-scheduling-with-tensorflow-and-keras-74ae7ce277c8\n",
    "# class OneCycleScheduler(keras.callbacks.Callback):\n",
    "#     def __init__(self, iterations, max_rate, start_rate=None,\n",
    "#                  last_iterations=None, last_rate=None):\n",
    "#         self.iterations = iterations\n",
    "#         self.max_rate = max_rate\n",
    "#         self.start_rate = start_rate or max_rate / 10\n",
    "#         self.last_iterations = last_iterations or iterations // 10 + 1\n",
    "#         self.half_iteration = (iterations - self.last_iterations) // 2\n",
    "#         self.last_rate = last_rate or self.start_rate / 1000\n",
    "#         self.iteration = 0\n",
    "        \n",
    "#     def _interpolate(self, iter1, iter2, rate1, rate2):\n",
    "#         return ((rate2 - rate1) * (self.iteration - iter1)\n",
    "#                 / (iter2 - iter1) + rate1)\n",
    "    \n",
    "#     def on_batch_begin(self, batch, logs):\n",
    "#         if self.iteration < self.half_iteration:\n",
    "#             rate = self._interpolate(0, self.half_iteration, self.start_rate, self.max_rate)\n",
    "#         elif self.iteration < 2 * self.half_iteration:\n",
    "#             rate = self._interpolate(self.half_iteration, 2 * self.half_iteration,\n",
    "#                                      self.max_rate, self.start_rate)\n",
    "#         else:\n",
    "#             rate = self._interpolate(2 * self.half_iteration, self.iterations,\n",
    "#                                      self.start_rate, self.last_rate)\n",
    "#         self.iteration += 1\n",
    "#         keras.backend.set_value(self.model.optimizer.lr, rate)\n",
    "        \n",
    "\n",
    "# onecycle = OneCycleScheduler(30,0.04)\n",
    "# , callbacks=[onecycle]"
   ]
  },
  {
   "cell_type": "code",
   "execution_count": null,
   "metadata": {},
   "outputs": [],
   "source": [
    "def exponential_decay(epoch):\n",
    "        return 0.01*0.1**(epoch/10)\n",
    "    \n",
    "exponential_decay_fn = exponential_decay\n",
    "lr_scheduler = keras.callbacks.LearningRateScheduler(exponential_decay_fn)"
   ]
  },
  {
   "cell_type": "code",
   "execution_count": null,
   "metadata": {},
   "outputs": [],
   "source": [
    "model = keras.models.Sequential([\n",
    "            keras.layers.Flatten(input_shape=[32,32,3]),\n",
    "            keras.layers.AlphaDropout(rate=0.1),\n",
    "            keras.layers.Dense(300, kernel_initializer='lecun_normal', activation='selu'),\n",
    "            keras.layers.AlphaDropout(rate=0.1),\n",
    "            keras.layers.Dense(300, kernel_initializer='lecun_normal', activation='selu'),\n",
    "            keras.layers.AlphaDropout(rate=0.1),\n",
    "            keras.layers.Dense(300, kernel_initializer='lecun_normal', activation='selu'),\n",
    "            keras.layers.AlphaDropout(rate=0.1),\n",
    "            keras.layers.Dense(300, kernel_initializer='lecun_normal', activation='selu'),\n",
    "            keras.layers.AlphaDropout(rate=0.1),\n",
    "            keras.layers.Dense(300, kernel_initializer='lecun_normal', activation='selu'),\n",
    "            keras.layers.AlphaDropout(rate=0.1),\n",
    "            keras.layers.Dense(10, activation = \"softmax\")\n",
    "            ])"
   ]
  },
  {
   "cell_type": "code",
   "execution_count": null,
   "metadata": {},
   "outputs": [],
   "source": [
    "model.summary()"
   ]
  },
  {
   "cell_type": "code",
   "execution_count": null,
   "metadata": {},
   "outputs": [],
   "source": [
    "model.layers"
   ]
  },
  {
   "cell_type": "code",
   "execution_count": null,
   "metadata": {},
   "outputs": [],
   "source": [
    "model.compile(loss=\"sparse_categorical_crossentropy\", optimizer=\"sgd\", metrics=[\"accuracy\"])"
   ]
  },
  {
   "cell_type": "code",
   "execution_count": null,
   "metadata": {},
   "outputs": [],
   "source": [
    "history = model.fit(X_train, y_train, epochs=60, validation_data = (X_valid, y_valid), batch_size=32, callbacks=[lr_scheduler])\n"
   ]
  },
  {
   "cell_type": "code",
   "execution_count": null,
   "metadata": {},
   "outputs": [],
   "source": [
    "import pandas as pd\n",
    "\n",
    "pd.DataFrame(history.history).plot(figsize=(15,8))\n",
    "plt.grid(True)\n",
    "plt.gca()\n",
    "plt.show()"
   ]
  },
  {
   "cell_type": "code",
   "execution_count": null,
   "metadata": {},
   "outputs": [],
   "source": [
    "model.evaluate(X_test, y_test)"
   ]
  },
  {
   "cell_type": "code",
   "execution_count": null,
   "metadata": {},
   "outputs": [],
   "source": [
    "y_prob = model.predict(X_test)\n",
    "y_classes = y_prob.argmax(axis=-1)\n",
    "y_classes"
   ]
  },
  {
   "cell_type": "code",
   "execution_count": null,
   "metadata": {},
   "outputs": [],
   "source": [
    "confusion_matrix = tf.math.confusion_matrix(y_test, y_classes)"
   ]
  },
  {
   "cell_type": "code",
   "execution_count": null,
   "metadata": {},
   "outputs": [],
   "source": [
    "import seaborn as sb    \n",
    "\n",
    "# ax = plt.figure(figsize=(8, 6))\n",
    "fig = sb.heatmap(confusion_matrix, annot=True, fmt='g', cmap='Greens')  #annot=True to annotate cells, ftm='g' to disable scientific notation\n",
    "\n",
    "# labels, title and ticks\n",
    "fig.set_xlabel('Predicted labels')\n",
    "fig.set_ylabel('True labels')\n",
    "fig.set_title('Confusion Matrix')\n",
    "fig.xaxis.set_ticklabels(class_names) \n",
    "fig.yaxis.set_ticklabels(class_names)\n",
    "fig.figure.set_size_inches(10, 10)\n",
    "\n",
    "\n",
    "plt.show()"
   ]
  },
  {
   "cell_type": "code",
   "execution_count": null,
   "metadata": {},
   "outputs": [],
   "source": []
  }
 ],
 "metadata": {
  "kernelspec": {
   "display_name": "venv",
   "language": "python",
   "name": "venv"
  },
  "language_info": {
   "codemirror_mode": {
    "name": "ipython",
    "version": 3
   },
   "file_extension": ".py",
   "mimetype": "text/x-python",
   "name": "python",
   "nbconvert_exporter": "python",
   "pygments_lexer": "ipython3",
   "version": "3.8.3"
  }
 },
 "nbformat": 4,
 "nbformat_minor": 4
}
